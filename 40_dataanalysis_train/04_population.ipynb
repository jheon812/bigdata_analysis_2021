{
 "metadata": {
  "language_info": {
   "codemirror_mode": {
    "name": "ipython",
    "version": 3
   },
   "file_extension": ".py",
   "mimetype": "text/x-python",
   "name": "python",
   "nbconvert_exporter": "python",
   "pygments_lexer": "ipython3",
   "version": "3.8.2"
  },
  "orig_nbformat": 4,
  "kernelspec": {
   "name": "python3",
   "display_name": "Python 3.8.2 32-bit"
  },
  "interpreter": {
   "hash": "c9ba0c4a5af8269c496dad2a440da0741b8e4cd992915eed58c521d280844af4"
  }
 },
 "nbformat": 4,
 "nbformat_minor": 2,
 "cells": [
  {
   "source": [
    "# 4. 인구 데이터 분석\n",
    "* 인구수 변동 현황\n",
    "* 가장 인구수가 늘어난 지역?\n",
    "* 가장 인구수가 줄어든 지역?\n",
    "* 가장 10~20대가 많은 지역?\n",
    "* 노인 연령층의 높은 지역?\n",
    "* 아이와 노인의 비율은?"
   ],
   "cell_type": "markdown",
   "metadata": {}
  },
  {
   "cell_type": "code",
   "execution_count": 1,
   "metadata": {},
   "outputs": [],
   "source": [
    "import numpy as np\n",
    "import pandas as pd\n",
    "import matplotlib.pyplot as plt\n",
    "import seaborn as sns"
   ]
  },
  {
   "cell_type": "code",
   "execution_count": 2,
   "metadata": {},
   "outputs": [
    {
     "output_type": "execute_result",
     "data": {
      "text/plain": [
       "   행정구역  2011년_총인구수  2011년_세대수  2011년_남자 인구수  2011년_여자 인구수  2012년_총인구수  \\\n",
       "0    전국    50734284   20033142      25406934      25327350    50948272   \n",
       "1    서울    10249679    4192752       5073899       5175780    10195318   \n",
       "2    부산     3550963    1381257       1762848       1788115     3538484   \n",
       "3    대구     2507271     940770       1251577       1255694     2505644   \n",
       "4    인청     2801274    1077563       1410980       1390294     2843981   \n",
       "5    광주     1463464     549105        725606        737858     1469216   \n",
       "6    대전     1515603     566324        759188        756415     1524583   \n",
       "7    울산     1135494     412561        583825        551669     1147256   \n",
       "8    세종           0          0             0             0      113117   \n",
       "9    경기    11937415    4579405       6015357       5922058    12093299   \n",
       "10   강원     1536448     648649        773278        763170     1538630   \n",
       "11   충북     1562903     627006        787981        774922     1565628   \n",
       "12   충남     2101284     868768       1063012       1038272     2028777   \n",
       "13   전북     1874031     754479        934002        940029     1873341   \n",
       "14   전남     1914339     805051        956747        957592     1909618   \n",
       "15   경북     2699195    1114901       1355727       1343468     2698353   \n",
       "16   경남     3308765    1286678       1664755       1644010     3319314   \n",
       "17   제주      576156     227873        288152        288004      583713   \n",
       "\n",
       "    2012년_세대수  2012년_남자 인구수  2012년_여자 인구수  2013년_총인구수  ...  2018년_남자 인구수  \\\n",
       "0    20211770      25504060      25444212    51141463  ...      25866129   \n",
       "1     4177970       5041336       5153982    10143645  ...       4773899   \n",
       "2     1389526       1754479       1784005     3527635  ...       1692421   \n",
       "3      948652       1249320       1256324     2501588  ...       1219342   \n",
       "4     1097491       1431593       1412388     2879782  ...       1481844   \n",
       "5      555538        728406        740810     1472910  ...        722581   \n",
       "6      575600        763671        760912     1532811  ...        744338   \n",
       "7      422177        590424        556832     1156480  ...        593819   \n",
       "8       46592         57633         55484      122153  ...        156831   \n",
       "9     4639665       6091035       6002264    12234630  ...       6577501   \n",
       "10     655301        774273        764357     1542263  ...        776456   \n",
       "11     633166        789286        776342     1572732  ...        808971   \n",
       "12     842446       1026812       1001965     2047631  ...       1082009   \n",
       "13     760189        933386        939955     1872965  ...        913297   \n",
       "14     808682        954354        955264     1907172  ...        943000   \n",
       "15    1125195       1355294       1343059     2699440  ...       1346689   \n",
       "16    1301439       1670545       1648769     3333820  ...       1697412   \n",
       "17     232141        292213        291500      593806  ...        335719   \n",
       "\n",
       "    2018년_여자 인구수  2019년_총인구수  2019년_세대수  2019년_남자 인구수  2019년_여자 인구수  \\\n",
       "0       25959930    51849861   22481466      25864816      25985045   \n",
       "1        4991724     9729107    4327605       4744059       4985048   \n",
       "2        1749032     3413841    1497908       1675417       1738424   \n",
       "3        1242427     2438031    1031251       1205286       1232745   \n",
       "4        1472798     2957026    1238641       1482249       1474777   \n",
       "5         736755     1456468     616485        720740        735728   \n",
       "6         745598     1474870     635343        736607        738263   \n",
       "7         561804     1148019     468659        589712        558307   \n",
       "8         157295      340575     135408        169845        170730   \n",
       "9        6499652    13239666    5468920       6659995       6579671   \n",
       "10        766596     1541502     719524        775386        766116   \n",
       "11        790281     1600007     722123        810384        789623   \n",
       "12       1044273     2123709     959255       1081938       1041771   \n",
       "13        923535     1818917     816191        904110        914807   \n",
       "14        939970     1868745     872628        937674        931071   \n",
       "15       1330142     2665836    1227548       1342037       1323799   \n",
       "16       1676576     3362553    1450822       1692032       1670521   \n",
       "17        331472      670989     293155        337345        333644   \n",
       "\n",
       "    2020년_총인구수  2020년_세대수  2020년_남자 인구수  2020년_여자 인구수  \n",
       "0     51829023   23093108      25841029      25987994  \n",
       "1      9668465    4417954       4701723       4966742  \n",
       "2      3391946    1530431       1661000       1730946  \n",
       "3      2418346    1056627       1193109       1225237  \n",
       "4      2942828    1267956       1473943       1468885  \n",
       "5      1450062     633582        717348        732714  \n",
       "6      1463882     652783        730699        733183  \n",
       "7      1136017     476893        583708        552309  \n",
       "8       355831     144275        177568        178263  \n",
       "9     13427014    5676401       6754469       6672545  \n",
       "10     1542840     736301        776505        766335  \n",
       "11     1600837     745644        811591        789246  \n",
       "12     2121029     983153       1082634       1038395  \n",
       "13     1804104     836660        896874        907230  \n",
       "14     1851549     893152        930615        920934  \n",
       "15     2639422    1254662       1329211       1310211  \n",
       "16     3340216    1484601       1681423       1658793  \n",
       "17      674635     302033        338609        336026  \n",
       "\n",
       "[18 rows x 41 columns]"
      ],
      "text/html": "<div>\n<style scoped>\n    .dataframe tbody tr th:only-of-type {\n        vertical-align: middle;\n    }\n\n    .dataframe tbody tr th {\n        vertical-align: top;\n    }\n\n    .dataframe thead th {\n        text-align: right;\n    }\n</style>\n<table border=\"1\" class=\"dataframe\">\n  <thead>\n    <tr style=\"text-align: right;\">\n      <th></th>\n      <th>행정구역</th>\n      <th>2011년_총인구수</th>\n      <th>2011년_세대수</th>\n      <th>2011년_남자 인구수</th>\n      <th>2011년_여자 인구수</th>\n      <th>2012년_총인구수</th>\n      <th>2012년_세대수</th>\n      <th>2012년_남자 인구수</th>\n      <th>2012년_여자 인구수</th>\n      <th>2013년_총인구수</th>\n      <th>...</th>\n      <th>2018년_남자 인구수</th>\n      <th>2018년_여자 인구수</th>\n      <th>2019년_총인구수</th>\n      <th>2019년_세대수</th>\n      <th>2019년_남자 인구수</th>\n      <th>2019년_여자 인구수</th>\n      <th>2020년_총인구수</th>\n      <th>2020년_세대수</th>\n      <th>2020년_남자 인구수</th>\n      <th>2020년_여자 인구수</th>\n    </tr>\n  </thead>\n  <tbody>\n    <tr>\n      <th>0</th>\n      <td>전국</td>\n      <td>50734284</td>\n      <td>20033142</td>\n      <td>25406934</td>\n      <td>25327350</td>\n      <td>50948272</td>\n      <td>20211770</td>\n      <td>25504060</td>\n      <td>25444212</td>\n      <td>51141463</td>\n      <td>...</td>\n      <td>25866129</td>\n      <td>25959930</td>\n      <td>51849861</td>\n      <td>22481466</td>\n      <td>25864816</td>\n      <td>25985045</td>\n      <td>51829023</td>\n      <td>23093108</td>\n      <td>25841029</td>\n      <td>25987994</td>\n    </tr>\n    <tr>\n      <th>1</th>\n      <td>서울</td>\n      <td>10249679</td>\n      <td>4192752</td>\n      <td>5073899</td>\n      <td>5175780</td>\n      <td>10195318</td>\n      <td>4177970</td>\n      <td>5041336</td>\n      <td>5153982</td>\n      <td>10143645</td>\n      <td>...</td>\n      <td>4773899</td>\n      <td>4991724</td>\n      <td>9729107</td>\n      <td>4327605</td>\n      <td>4744059</td>\n      <td>4985048</td>\n      <td>9668465</td>\n      <td>4417954</td>\n      <td>4701723</td>\n      <td>4966742</td>\n    </tr>\n    <tr>\n      <th>2</th>\n      <td>부산</td>\n      <td>3550963</td>\n      <td>1381257</td>\n      <td>1762848</td>\n      <td>1788115</td>\n      <td>3538484</td>\n      <td>1389526</td>\n      <td>1754479</td>\n      <td>1784005</td>\n      <td>3527635</td>\n      <td>...</td>\n      <td>1692421</td>\n      <td>1749032</td>\n      <td>3413841</td>\n      <td>1497908</td>\n      <td>1675417</td>\n      <td>1738424</td>\n      <td>3391946</td>\n      <td>1530431</td>\n      <td>1661000</td>\n      <td>1730946</td>\n    </tr>\n    <tr>\n      <th>3</th>\n      <td>대구</td>\n      <td>2507271</td>\n      <td>940770</td>\n      <td>1251577</td>\n      <td>1255694</td>\n      <td>2505644</td>\n      <td>948652</td>\n      <td>1249320</td>\n      <td>1256324</td>\n      <td>2501588</td>\n      <td>...</td>\n      <td>1219342</td>\n      <td>1242427</td>\n      <td>2438031</td>\n      <td>1031251</td>\n      <td>1205286</td>\n      <td>1232745</td>\n      <td>2418346</td>\n      <td>1056627</td>\n      <td>1193109</td>\n      <td>1225237</td>\n    </tr>\n    <tr>\n      <th>4</th>\n      <td>인청</td>\n      <td>2801274</td>\n      <td>1077563</td>\n      <td>1410980</td>\n      <td>1390294</td>\n      <td>2843981</td>\n      <td>1097491</td>\n      <td>1431593</td>\n      <td>1412388</td>\n      <td>2879782</td>\n      <td>...</td>\n      <td>1481844</td>\n      <td>1472798</td>\n      <td>2957026</td>\n      <td>1238641</td>\n      <td>1482249</td>\n      <td>1474777</td>\n      <td>2942828</td>\n      <td>1267956</td>\n      <td>1473943</td>\n      <td>1468885</td>\n    </tr>\n    <tr>\n      <th>5</th>\n      <td>광주</td>\n      <td>1463464</td>\n      <td>549105</td>\n      <td>725606</td>\n      <td>737858</td>\n      <td>1469216</td>\n      <td>555538</td>\n      <td>728406</td>\n      <td>740810</td>\n      <td>1472910</td>\n      <td>...</td>\n      <td>722581</td>\n      <td>736755</td>\n      <td>1456468</td>\n      <td>616485</td>\n      <td>720740</td>\n      <td>735728</td>\n      <td>1450062</td>\n      <td>633582</td>\n      <td>717348</td>\n      <td>732714</td>\n    </tr>\n    <tr>\n      <th>6</th>\n      <td>대전</td>\n      <td>1515603</td>\n      <td>566324</td>\n      <td>759188</td>\n      <td>756415</td>\n      <td>1524583</td>\n      <td>575600</td>\n      <td>763671</td>\n      <td>760912</td>\n      <td>1532811</td>\n      <td>...</td>\n      <td>744338</td>\n      <td>745598</td>\n      <td>1474870</td>\n      <td>635343</td>\n      <td>736607</td>\n      <td>738263</td>\n      <td>1463882</td>\n      <td>652783</td>\n      <td>730699</td>\n      <td>733183</td>\n    </tr>\n    <tr>\n      <th>7</th>\n      <td>울산</td>\n      <td>1135494</td>\n      <td>412561</td>\n      <td>583825</td>\n      <td>551669</td>\n      <td>1147256</td>\n      <td>422177</td>\n      <td>590424</td>\n      <td>556832</td>\n      <td>1156480</td>\n      <td>...</td>\n      <td>593819</td>\n      <td>561804</td>\n      <td>1148019</td>\n      <td>468659</td>\n      <td>589712</td>\n      <td>558307</td>\n      <td>1136017</td>\n      <td>476893</td>\n      <td>583708</td>\n      <td>552309</td>\n    </tr>\n    <tr>\n      <th>8</th>\n      <td>세종</td>\n      <td>0</td>\n      <td>0</td>\n      <td>0</td>\n      <td>0</td>\n      <td>113117</td>\n      <td>46592</td>\n      <td>57633</td>\n      <td>55484</td>\n      <td>122153</td>\n      <td>...</td>\n      <td>156831</td>\n      <td>157295</td>\n      <td>340575</td>\n      <td>135408</td>\n      <td>169845</td>\n      <td>170730</td>\n      <td>355831</td>\n      <td>144275</td>\n      <td>177568</td>\n      <td>178263</td>\n    </tr>\n    <tr>\n      <th>9</th>\n      <td>경기</td>\n      <td>11937415</td>\n      <td>4579405</td>\n      <td>6015357</td>\n      <td>5922058</td>\n      <td>12093299</td>\n      <td>4639665</td>\n      <td>6091035</td>\n      <td>6002264</td>\n      <td>12234630</td>\n      <td>...</td>\n      <td>6577501</td>\n      <td>6499652</td>\n      <td>13239666</td>\n      <td>5468920</td>\n      <td>6659995</td>\n      <td>6579671</td>\n      <td>13427014</td>\n      <td>5676401</td>\n      <td>6754469</td>\n      <td>6672545</td>\n    </tr>\n    <tr>\n      <th>10</th>\n      <td>강원</td>\n      <td>1536448</td>\n      <td>648649</td>\n      <td>773278</td>\n      <td>763170</td>\n      <td>1538630</td>\n      <td>655301</td>\n      <td>774273</td>\n      <td>764357</td>\n      <td>1542263</td>\n      <td>...</td>\n      <td>776456</td>\n      <td>766596</td>\n      <td>1541502</td>\n      <td>719524</td>\n      <td>775386</td>\n      <td>766116</td>\n      <td>1542840</td>\n      <td>736301</td>\n      <td>776505</td>\n      <td>766335</td>\n    </tr>\n    <tr>\n      <th>11</th>\n      <td>충북</td>\n      <td>1562903</td>\n      <td>627006</td>\n      <td>787981</td>\n      <td>774922</td>\n      <td>1565628</td>\n      <td>633166</td>\n      <td>789286</td>\n      <td>776342</td>\n      <td>1572732</td>\n      <td>...</td>\n      <td>808971</td>\n      <td>790281</td>\n      <td>1600007</td>\n      <td>722123</td>\n      <td>810384</td>\n      <td>789623</td>\n      <td>1600837</td>\n      <td>745644</td>\n      <td>811591</td>\n      <td>789246</td>\n    </tr>\n    <tr>\n      <th>12</th>\n      <td>충남</td>\n      <td>2101284</td>\n      <td>868768</td>\n      <td>1063012</td>\n      <td>1038272</td>\n      <td>2028777</td>\n      <td>842446</td>\n      <td>1026812</td>\n      <td>1001965</td>\n      <td>2047631</td>\n      <td>...</td>\n      <td>1082009</td>\n      <td>1044273</td>\n      <td>2123709</td>\n      <td>959255</td>\n      <td>1081938</td>\n      <td>1041771</td>\n      <td>2121029</td>\n      <td>983153</td>\n      <td>1082634</td>\n      <td>1038395</td>\n    </tr>\n    <tr>\n      <th>13</th>\n      <td>전북</td>\n      <td>1874031</td>\n      <td>754479</td>\n      <td>934002</td>\n      <td>940029</td>\n      <td>1873341</td>\n      <td>760189</td>\n      <td>933386</td>\n      <td>939955</td>\n      <td>1872965</td>\n      <td>...</td>\n      <td>913297</td>\n      <td>923535</td>\n      <td>1818917</td>\n      <td>816191</td>\n      <td>904110</td>\n      <td>914807</td>\n      <td>1804104</td>\n      <td>836660</td>\n      <td>896874</td>\n      <td>907230</td>\n    </tr>\n    <tr>\n      <th>14</th>\n      <td>전남</td>\n      <td>1914339</td>\n      <td>805051</td>\n      <td>956747</td>\n      <td>957592</td>\n      <td>1909618</td>\n      <td>808682</td>\n      <td>954354</td>\n      <td>955264</td>\n      <td>1907172</td>\n      <td>...</td>\n      <td>943000</td>\n      <td>939970</td>\n      <td>1868745</td>\n      <td>872628</td>\n      <td>937674</td>\n      <td>931071</td>\n      <td>1851549</td>\n      <td>893152</td>\n      <td>930615</td>\n      <td>920934</td>\n    </tr>\n    <tr>\n      <th>15</th>\n      <td>경북</td>\n      <td>2699195</td>\n      <td>1114901</td>\n      <td>1355727</td>\n      <td>1343468</td>\n      <td>2698353</td>\n      <td>1125195</td>\n      <td>1355294</td>\n      <td>1343059</td>\n      <td>2699440</td>\n      <td>...</td>\n      <td>1346689</td>\n      <td>1330142</td>\n      <td>2665836</td>\n      <td>1227548</td>\n      <td>1342037</td>\n      <td>1323799</td>\n      <td>2639422</td>\n      <td>1254662</td>\n      <td>1329211</td>\n      <td>1310211</td>\n    </tr>\n    <tr>\n      <th>16</th>\n      <td>경남</td>\n      <td>3308765</td>\n      <td>1286678</td>\n      <td>1664755</td>\n      <td>1644010</td>\n      <td>3319314</td>\n      <td>1301439</td>\n      <td>1670545</td>\n      <td>1648769</td>\n      <td>3333820</td>\n      <td>...</td>\n      <td>1697412</td>\n      <td>1676576</td>\n      <td>3362553</td>\n      <td>1450822</td>\n      <td>1692032</td>\n      <td>1670521</td>\n      <td>3340216</td>\n      <td>1484601</td>\n      <td>1681423</td>\n      <td>1658793</td>\n    </tr>\n    <tr>\n      <th>17</th>\n      <td>제주</td>\n      <td>576156</td>\n      <td>227873</td>\n      <td>288152</td>\n      <td>288004</td>\n      <td>583713</td>\n      <td>232141</td>\n      <td>292213</td>\n      <td>291500</td>\n      <td>593806</td>\n      <td>...</td>\n      <td>335719</td>\n      <td>331472</td>\n      <td>670989</td>\n      <td>293155</td>\n      <td>337345</td>\n      <td>333644</td>\n      <td>674635</td>\n      <td>302033</td>\n      <td>338609</td>\n      <td>336026</td>\n    </tr>\n  </tbody>\n</table>\n<p>18 rows × 41 columns</p>\n</div>"
     },
     "metadata": {},
     "execution_count": 2
    }
   ],
   "source": [
    "df = pd.read_csv('주민등록인구및세대현황_연간.csv',thousands=',')\n",
    "df"
   ]
  },
  {
   "cell_type": "code",
   "execution_count": 3,
   "metadata": {},
   "outputs": [
    {
     "output_type": "stream",
     "name": "stdout",
     "text": [
      "<class 'pandas.core.frame.DataFrame'>\nRangeIndex: 18 entries, 0 to 17\nData columns (total 41 columns):\n #   Column        Non-Null Count  Dtype \n---  ------        --------------  ----- \n 0   행정구역          18 non-null     object\n 1   2011년_총인구수    18 non-null     int64 \n 2   2011년_세대수     18 non-null     int64 \n 3   2011년_남자 인구수  18 non-null     int64 \n 4   2011년_여자 인구수  18 non-null     int64 \n 5   2012년_총인구수    18 non-null     int64 \n 6   2012년_세대수     18 non-null     int64 \n 7   2012년_남자 인구수  18 non-null     int64 \n 8   2012년_여자 인구수  18 non-null     int64 \n 9   2013년_총인구수    18 non-null     int64 \n 10  2013년_세대수     18 non-null     int64 \n 11  2013년_남자 인구수  18 non-null     int64 \n 12  2013년_여자 인구수  18 non-null     int64 \n 13  2014년_총인구수    18 non-null     int64 \n 14  2014년_세대수     18 non-null     int64 \n 15  2014년_남자 인구수  18 non-null     int64 \n 16  2014년_여자 인구수  18 non-null     int64 \n 17  2015년_총인구수    18 non-null     int64 \n 18  2015년_세대수     18 non-null     int64 \n 19  2015년_남자 인구수  18 non-null     int64 \n 20  2015년_여자 인구수  18 non-null     int64 \n 21  2016년_총인구수    18 non-null     int64 \n 22  2016년_세대수     18 non-null     int64 \n 23  2016년_남자 인구수  18 non-null     int64 \n 24  2016년_여자 인구수  18 non-null     int64 \n 25  2017년_총인구수    18 non-null     int64 \n 26  2017년_세대수     18 non-null     int64 \n 27  2017년_남자 인구수  18 non-null     int64 \n 28  2017년_여자 인구수  18 non-null     int64 \n 29  2018년_총인구수    18 non-null     int64 \n 30  2018년_세대수     18 non-null     int64 \n 31  2018년_남자 인구수  18 non-null     int64 \n 32  2018년_여자 인구수  18 non-null     int64 \n 33  2019년_총인구수    18 non-null     int64 \n 34  2019년_세대수     18 non-null     int64 \n 35  2019년_남자 인구수  18 non-null     int64 \n 36  2019년_여자 인구수  18 non-null     int64 \n 37  2020년_총인구수    18 non-null     int64 \n 38  2020년_세대수     18 non-null     int64 \n 39  2020년_남자 인구수  18 non-null     int64 \n 40  2020년_여자 인구수  18 non-null     int64 \ndtypes: int64(40), object(1)\nmemory usage: 5.8+ KB\n"
     ]
    }
   ],
   "source": [
    "df.info()"
   ]
  },
  {
   "cell_type": "code",
   "execution_count": 13,
   "metadata": {},
   "outputs": [
    {
     "output_type": "execute_result",
     "data": {
      "text/plain": [
       "   행정구역    년도       인구수\n",
       "0    전국  2011  50734284\n",
       "1    서울  2011  10249679\n",
       "2    부산  2011   3550963\n",
       "3    대구  2011   2507271\n",
       "4    인청  2011   2801274\n",
       "5    광주  2011   1463464\n",
       "6    대전  2011   1515603\n",
       "7    울산  2011   1135494\n",
       "8    세종  2011         0\n",
       "9    경기  2011  11937415\n",
       "10   강원  2011   1536448\n",
       "11   충북  2011   1562903\n",
       "12   충남  2011   2101284\n",
       "13   전북  2011   1874031\n",
       "14   전남  2011   1914339\n",
       "15   경북  2011   2699195\n",
       "16   경남  2011   3308765\n",
       "17   제주  2011    576156"
      ],
      "text/html": "<div>\n<style scoped>\n    .dataframe tbody tr th:only-of-type {\n        vertical-align: middle;\n    }\n\n    .dataframe tbody tr th {\n        vertical-align: top;\n    }\n\n    .dataframe thead th {\n        text-align: right;\n    }\n</style>\n<table border=\"1\" class=\"dataframe\">\n  <thead>\n    <tr style=\"text-align: right;\">\n      <th></th>\n      <th>행정구역</th>\n      <th>년도</th>\n      <th>인구수</th>\n    </tr>\n  </thead>\n  <tbody>\n    <tr>\n      <th>0</th>\n      <td>전국</td>\n      <td>2011</td>\n      <td>50734284</td>\n    </tr>\n    <tr>\n      <th>1</th>\n      <td>서울</td>\n      <td>2011</td>\n      <td>10249679</td>\n    </tr>\n    <tr>\n      <th>2</th>\n      <td>부산</td>\n      <td>2011</td>\n      <td>3550963</td>\n    </tr>\n    <tr>\n      <th>3</th>\n      <td>대구</td>\n      <td>2011</td>\n      <td>2507271</td>\n    </tr>\n    <tr>\n      <th>4</th>\n      <td>인청</td>\n      <td>2011</td>\n      <td>2801274</td>\n    </tr>\n    <tr>\n      <th>5</th>\n      <td>광주</td>\n      <td>2011</td>\n      <td>1463464</td>\n    </tr>\n    <tr>\n      <th>6</th>\n      <td>대전</td>\n      <td>2011</td>\n      <td>1515603</td>\n    </tr>\n    <tr>\n      <th>7</th>\n      <td>울산</td>\n      <td>2011</td>\n      <td>1135494</td>\n    </tr>\n    <tr>\n      <th>8</th>\n      <td>세종</td>\n      <td>2011</td>\n      <td>0</td>\n    </tr>\n    <tr>\n      <th>9</th>\n      <td>경기</td>\n      <td>2011</td>\n      <td>11937415</td>\n    </tr>\n    <tr>\n      <th>10</th>\n      <td>강원</td>\n      <td>2011</td>\n      <td>1536448</td>\n    </tr>\n    <tr>\n      <th>11</th>\n      <td>충북</td>\n      <td>2011</td>\n      <td>1562903</td>\n    </tr>\n    <tr>\n      <th>12</th>\n      <td>충남</td>\n      <td>2011</td>\n      <td>2101284</td>\n    </tr>\n    <tr>\n      <th>13</th>\n      <td>전북</td>\n      <td>2011</td>\n      <td>1874031</td>\n    </tr>\n    <tr>\n      <th>14</th>\n      <td>전남</td>\n      <td>2011</td>\n      <td>1914339</td>\n    </tr>\n    <tr>\n      <th>15</th>\n      <td>경북</td>\n      <td>2011</td>\n      <td>2699195</td>\n    </tr>\n    <tr>\n      <th>16</th>\n      <td>경남</td>\n      <td>2011</td>\n      <td>3308765</td>\n    </tr>\n    <tr>\n      <th>17</th>\n      <td>제주</td>\n      <td>2011</td>\n      <td>576156</td>\n    </tr>\n  </tbody>\n</table>\n</div>"
     },
     "metadata": {},
     "execution_count": 13
    }
   ],
   "source": [
    "# id_vars : 기준이 되는 컬럼\n",
    "# value_vars : 컬럼이 녹아서 값과 같이 행으로 내려가는 컬럼\n",
    "df_2011 = pd.melt(df,id_vars=['행정구역'],value_vars = ['2011년_총인구수'],var_name='년도',value_name='인구수')\n",
    "df_2011.년도 = 2011\n",
    "df_2011"
   ]
  },
  {
   "cell_type": "code",
   "execution_count": 15,
   "metadata": {},
   "outputs": [
    {
     "output_type": "execute_result",
     "data": {
      "text/plain": [
       "   행정구역    년도        남자\n",
       "0    전국  2011  25406934\n",
       "1    서울  2011   5073899\n",
       "2    부산  2011   1762848\n",
       "3    대구  2011   1251577\n",
       "4    인청  2011   1410980\n",
       "5    광주  2011    725606\n",
       "6    대전  2011    759188\n",
       "7    울산  2011    583825\n",
       "8    세종  2011         0\n",
       "9    경기  2011   6015357\n",
       "10   강원  2011    773278\n",
       "11   충북  2011    787981\n",
       "12   충남  2011   1063012\n",
       "13   전북  2011    934002\n",
       "14   전남  2011    956747\n",
       "15   경북  2011   1355727\n",
       "16   경남  2011   1664755\n",
       "17   제주  2011    288152"
      ],
      "text/html": "<div>\n<style scoped>\n    .dataframe tbody tr th:only-of-type {\n        vertical-align: middle;\n    }\n\n    .dataframe tbody tr th {\n        vertical-align: top;\n    }\n\n    .dataframe thead th {\n        text-align: right;\n    }\n</style>\n<table border=\"1\" class=\"dataframe\">\n  <thead>\n    <tr style=\"text-align: right;\">\n      <th></th>\n      <th>행정구역</th>\n      <th>년도</th>\n      <th>남자</th>\n    </tr>\n  </thead>\n  <tbody>\n    <tr>\n      <th>0</th>\n      <td>전국</td>\n      <td>2011</td>\n      <td>25406934</td>\n    </tr>\n    <tr>\n      <th>1</th>\n      <td>서울</td>\n      <td>2011</td>\n      <td>5073899</td>\n    </tr>\n    <tr>\n      <th>2</th>\n      <td>부산</td>\n      <td>2011</td>\n      <td>1762848</td>\n    </tr>\n    <tr>\n      <th>3</th>\n      <td>대구</td>\n      <td>2011</td>\n      <td>1251577</td>\n    </tr>\n    <tr>\n      <th>4</th>\n      <td>인청</td>\n      <td>2011</td>\n      <td>1410980</td>\n    </tr>\n    <tr>\n      <th>5</th>\n      <td>광주</td>\n      <td>2011</td>\n      <td>725606</td>\n    </tr>\n    <tr>\n      <th>6</th>\n      <td>대전</td>\n      <td>2011</td>\n      <td>759188</td>\n    </tr>\n    <tr>\n      <th>7</th>\n      <td>울산</td>\n      <td>2011</td>\n      <td>583825</td>\n    </tr>\n    <tr>\n      <th>8</th>\n      <td>세종</td>\n      <td>2011</td>\n      <td>0</td>\n    </tr>\n    <tr>\n      <th>9</th>\n      <td>경기</td>\n      <td>2011</td>\n      <td>6015357</td>\n    </tr>\n    <tr>\n      <th>10</th>\n      <td>강원</td>\n      <td>2011</td>\n      <td>773278</td>\n    </tr>\n    <tr>\n      <th>11</th>\n      <td>충북</td>\n      <td>2011</td>\n      <td>787981</td>\n    </tr>\n    <tr>\n      <th>12</th>\n      <td>충남</td>\n      <td>2011</td>\n      <td>1063012</td>\n    </tr>\n    <tr>\n      <th>13</th>\n      <td>전북</td>\n      <td>2011</td>\n      <td>934002</td>\n    </tr>\n    <tr>\n      <th>14</th>\n      <td>전남</td>\n      <td>2011</td>\n      <td>956747</td>\n    </tr>\n    <tr>\n      <th>15</th>\n      <td>경북</td>\n      <td>2011</td>\n      <td>1355727</td>\n    </tr>\n    <tr>\n      <th>16</th>\n      <td>경남</td>\n      <td>2011</td>\n      <td>1664755</td>\n    </tr>\n    <tr>\n      <th>17</th>\n      <td>제주</td>\n      <td>2011</td>\n      <td>288152</td>\n    </tr>\n  </tbody>\n</table>\n</div>"
     },
     "metadata": {},
     "execution_count": 15
    }
   ],
   "source": [
    "df_2011_m = pd.melt(df,id_vars=['행정구역'],value_vars = ['2011년_남자 인구수'],var_name='년도',value_name='남자')\n",
    "df_2011_m.년도 = 2011\n",
    "df_2011_m"
   ]
  },
  {
   "cell_type": "code",
   "execution_count": 19,
   "metadata": {},
   "outputs": [
    {
     "output_type": "execute_result",
     "data": {
      "text/plain": [
       "   행정구역    년도        여자\n",
       "0    전국  2011  25327350\n",
       "1    서울  2011   5175780\n",
       "2    부산  2011   1788115\n",
       "3    대구  2011   1255694\n",
       "4    인청  2011   1390294\n",
       "5    광주  2011    737858\n",
       "6    대전  2011    756415\n",
       "7    울산  2011    551669\n",
       "8    세종  2011         0\n",
       "9    경기  2011   5922058\n",
       "10   강원  2011    763170\n",
       "11   충북  2011    774922\n",
       "12   충남  2011   1038272\n",
       "13   전북  2011    940029\n",
       "14   전남  2011    957592\n",
       "15   경북  2011   1343468\n",
       "16   경남  2011   1644010\n",
       "17   제주  2011    288004"
      ],
      "text/html": "<div>\n<style scoped>\n    .dataframe tbody tr th:only-of-type {\n        vertical-align: middle;\n    }\n\n    .dataframe tbody tr th {\n        vertical-align: top;\n    }\n\n    .dataframe thead th {\n        text-align: right;\n    }\n</style>\n<table border=\"1\" class=\"dataframe\">\n  <thead>\n    <tr style=\"text-align: right;\">\n      <th></th>\n      <th>행정구역</th>\n      <th>년도</th>\n      <th>여자</th>\n    </tr>\n  </thead>\n  <tbody>\n    <tr>\n      <th>0</th>\n      <td>전국</td>\n      <td>2011</td>\n      <td>25327350</td>\n    </tr>\n    <tr>\n      <th>1</th>\n      <td>서울</td>\n      <td>2011</td>\n      <td>5175780</td>\n    </tr>\n    <tr>\n      <th>2</th>\n      <td>부산</td>\n      <td>2011</td>\n      <td>1788115</td>\n    </tr>\n    <tr>\n      <th>3</th>\n      <td>대구</td>\n      <td>2011</td>\n      <td>1255694</td>\n    </tr>\n    <tr>\n      <th>4</th>\n      <td>인청</td>\n      <td>2011</td>\n      <td>1390294</td>\n    </tr>\n    <tr>\n      <th>5</th>\n      <td>광주</td>\n      <td>2011</td>\n      <td>737858</td>\n    </tr>\n    <tr>\n      <th>6</th>\n      <td>대전</td>\n      <td>2011</td>\n      <td>756415</td>\n    </tr>\n    <tr>\n      <th>7</th>\n      <td>울산</td>\n      <td>2011</td>\n      <td>551669</td>\n    </tr>\n    <tr>\n      <th>8</th>\n      <td>세종</td>\n      <td>2011</td>\n      <td>0</td>\n    </tr>\n    <tr>\n      <th>9</th>\n      <td>경기</td>\n      <td>2011</td>\n      <td>5922058</td>\n    </tr>\n    <tr>\n      <th>10</th>\n      <td>강원</td>\n      <td>2011</td>\n      <td>763170</td>\n    </tr>\n    <tr>\n      <th>11</th>\n      <td>충북</td>\n      <td>2011</td>\n      <td>774922</td>\n    </tr>\n    <tr>\n      <th>12</th>\n      <td>충남</td>\n      <td>2011</td>\n      <td>1038272</td>\n    </tr>\n    <tr>\n      <th>13</th>\n      <td>전북</td>\n      <td>2011</td>\n      <td>940029</td>\n    </tr>\n    <tr>\n      <th>14</th>\n      <td>전남</td>\n      <td>2011</td>\n      <td>957592</td>\n    </tr>\n    <tr>\n      <th>15</th>\n      <td>경북</td>\n      <td>2011</td>\n      <td>1343468</td>\n    </tr>\n    <tr>\n      <th>16</th>\n      <td>경남</td>\n      <td>2011</td>\n      <td>1644010</td>\n    </tr>\n    <tr>\n      <th>17</th>\n      <td>제주</td>\n      <td>2011</td>\n      <td>288004</td>\n    </tr>\n  </tbody>\n</table>\n</div>"
     },
     "metadata": {},
     "execution_count": 19
    }
   ],
   "source": [
    "df_2011_f = pd.melt(df,id_vars=['행정구역'],value_vars = ['2011년_여자 인구수'],var_name='년도',value_name='여자')\n",
    "df_2011_f.년도 = 2011\n",
    "df_2011_f"
   ]
  },
  {
   "cell_type": "code",
   "execution_count": 20,
   "metadata": {},
   "outputs": [
    {
     "output_type": "execute_result",
     "data": {
      "text/plain": [
       "   행정구역    년도       인구수        남자\n",
       "0    전국  2011  50734284  25406934\n",
       "1    서울  2011  10249679   5073899\n",
       "2    부산  2011   3550963   1762848\n",
       "3    대구  2011   2507271   1251577\n",
       "4    인청  2011   2801274   1410980\n",
       "5    광주  2011   1463464    725606\n",
       "6    대전  2011   1515603    759188\n",
       "7    울산  2011   1135494    583825\n",
       "8    세종  2011         0         0\n",
       "9    경기  2011  11937415   6015357\n",
       "10   강원  2011   1536448    773278\n",
       "11   충북  2011   1562903    787981\n",
       "12   충남  2011   2101284   1063012\n",
       "13   전북  2011   1874031    934002\n",
       "14   전남  2011   1914339    956747\n",
       "15   경북  2011   2699195   1355727\n",
       "16   경남  2011   3308765   1664755\n",
       "17   제주  2011    576156    288152"
      ],
      "text/html": "<div>\n<style scoped>\n    .dataframe tbody tr th:only-of-type {\n        vertical-align: middle;\n    }\n\n    .dataframe tbody tr th {\n        vertical-align: top;\n    }\n\n    .dataframe thead th {\n        text-align: right;\n    }\n</style>\n<table border=\"1\" class=\"dataframe\">\n  <thead>\n    <tr style=\"text-align: right;\">\n      <th></th>\n      <th>행정구역</th>\n      <th>년도</th>\n      <th>인구수</th>\n      <th>남자</th>\n    </tr>\n  </thead>\n  <tbody>\n    <tr>\n      <th>0</th>\n      <td>전국</td>\n      <td>2011</td>\n      <td>50734284</td>\n      <td>25406934</td>\n    </tr>\n    <tr>\n      <th>1</th>\n      <td>서울</td>\n      <td>2011</td>\n      <td>10249679</td>\n      <td>5073899</td>\n    </tr>\n    <tr>\n      <th>2</th>\n      <td>부산</td>\n      <td>2011</td>\n      <td>3550963</td>\n      <td>1762848</td>\n    </tr>\n    <tr>\n      <th>3</th>\n      <td>대구</td>\n      <td>2011</td>\n      <td>2507271</td>\n      <td>1251577</td>\n    </tr>\n    <tr>\n      <th>4</th>\n      <td>인청</td>\n      <td>2011</td>\n      <td>2801274</td>\n      <td>1410980</td>\n    </tr>\n    <tr>\n      <th>5</th>\n      <td>광주</td>\n      <td>2011</td>\n      <td>1463464</td>\n      <td>725606</td>\n    </tr>\n    <tr>\n      <th>6</th>\n      <td>대전</td>\n      <td>2011</td>\n      <td>1515603</td>\n      <td>759188</td>\n    </tr>\n    <tr>\n      <th>7</th>\n      <td>울산</td>\n      <td>2011</td>\n      <td>1135494</td>\n      <td>583825</td>\n    </tr>\n    <tr>\n      <th>8</th>\n      <td>세종</td>\n      <td>2011</td>\n      <td>0</td>\n      <td>0</td>\n    </tr>\n    <tr>\n      <th>9</th>\n      <td>경기</td>\n      <td>2011</td>\n      <td>11937415</td>\n      <td>6015357</td>\n    </tr>\n    <tr>\n      <th>10</th>\n      <td>강원</td>\n      <td>2011</td>\n      <td>1536448</td>\n      <td>773278</td>\n    </tr>\n    <tr>\n      <th>11</th>\n      <td>충북</td>\n      <td>2011</td>\n      <td>1562903</td>\n      <td>787981</td>\n    </tr>\n    <tr>\n      <th>12</th>\n      <td>충남</td>\n      <td>2011</td>\n      <td>2101284</td>\n      <td>1063012</td>\n    </tr>\n    <tr>\n      <th>13</th>\n      <td>전북</td>\n      <td>2011</td>\n      <td>1874031</td>\n      <td>934002</td>\n    </tr>\n    <tr>\n      <th>14</th>\n      <td>전남</td>\n      <td>2011</td>\n      <td>1914339</td>\n      <td>956747</td>\n    </tr>\n    <tr>\n      <th>15</th>\n      <td>경북</td>\n      <td>2011</td>\n      <td>2699195</td>\n      <td>1355727</td>\n    </tr>\n    <tr>\n      <th>16</th>\n      <td>경남</td>\n      <td>2011</td>\n      <td>3308765</td>\n      <td>1664755</td>\n    </tr>\n    <tr>\n      <th>17</th>\n      <td>제주</td>\n      <td>2011</td>\n      <td>576156</td>\n      <td>288152</td>\n    </tr>\n  </tbody>\n</table>\n</div>"
     },
     "metadata": {},
     "execution_count": 20
    }
   ],
   "source": [
    "df_2011_all = pd.merge(df_2011,df_2011_m,on=['행정구역','년도'],how='inner')\n",
    "df_2011_all"
   ]
  },
  {
   "cell_type": "code",
   "execution_count": 21,
   "metadata": {},
   "outputs": [
    {
     "output_type": "execute_result",
     "data": {
      "text/plain": [
       "   행정구역    년도       인구수        남자        여자\n",
       "0    전국  2011  50734284  25406934  25327350\n",
       "1    서울  2011  10249679   5073899   5175780\n",
       "2    부산  2011   3550963   1762848   1788115\n",
       "3    대구  2011   2507271   1251577   1255694\n",
       "4    인청  2011   2801274   1410980   1390294\n",
       "5    광주  2011   1463464    725606    737858\n",
       "6    대전  2011   1515603    759188    756415\n",
       "7    울산  2011   1135494    583825    551669\n",
       "8    세종  2011         0         0         0\n",
       "9    경기  2011  11937415   6015357   5922058\n",
       "10   강원  2011   1536448    773278    763170\n",
       "11   충북  2011   1562903    787981    774922\n",
       "12   충남  2011   2101284   1063012   1038272\n",
       "13   전북  2011   1874031    934002    940029\n",
       "14   전남  2011   1914339    956747    957592\n",
       "15   경북  2011   2699195   1355727   1343468\n",
       "16   경남  2011   3308765   1664755   1644010\n",
       "17   제주  2011    576156    288152    288004"
      ],
      "text/html": "<div>\n<style scoped>\n    .dataframe tbody tr th:only-of-type {\n        vertical-align: middle;\n    }\n\n    .dataframe tbody tr th {\n        vertical-align: top;\n    }\n\n    .dataframe thead th {\n        text-align: right;\n    }\n</style>\n<table border=\"1\" class=\"dataframe\">\n  <thead>\n    <tr style=\"text-align: right;\">\n      <th></th>\n      <th>행정구역</th>\n      <th>년도</th>\n      <th>인구수</th>\n      <th>남자</th>\n      <th>여자</th>\n    </tr>\n  </thead>\n  <tbody>\n    <tr>\n      <th>0</th>\n      <td>전국</td>\n      <td>2011</td>\n      <td>50734284</td>\n      <td>25406934</td>\n      <td>25327350</td>\n    </tr>\n    <tr>\n      <th>1</th>\n      <td>서울</td>\n      <td>2011</td>\n      <td>10249679</td>\n      <td>5073899</td>\n      <td>5175780</td>\n    </tr>\n    <tr>\n      <th>2</th>\n      <td>부산</td>\n      <td>2011</td>\n      <td>3550963</td>\n      <td>1762848</td>\n      <td>1788115</td>\n    </tr>\n    <tr>\n      <th>3</th>\n      <td>대구</td>\n      <td>2011</td>\n      <td>2507271</td>\n      <td>1251577</td>\n      <td>1255694</td>\n    </tr>\n    <tr>\n      <th>4</th>\n      <td>인청</td>\n      <td>2011</td>\n      <td>2801274</td>\n      <td>1410980</td>\n      <td>1390294</td>\n    </tr>\n    <tr>\n      <th>5</th>\n      <td>광주</td>\n      <td>2011</td>\n      <td>1463464</td>\n      <td>725606</td>\n      <td>737858</td>\n    </tr>\n    <tr>\n      <th>6</th>\n      <td>대전</td>\n      <td>2011</td>\n      <td>1515603</td>\n      <td>759188</td>\n      <td>756415</td>\n    </tr>\n    <tr>\n      <th>7</th>\n      <td>울산</td>\n      <td>2011</td>\n      <td>1135494</td>\n      <td>583825</td>\n      <td>551669</td>\n    </tr>\n    <tr>\n      <th>8</th>\n      <td>세종</td>\n      <td>2011</td>\n      <td>0</td>\n      <td>0</td>\n      <td>0</td>\n    </tr>\n    <tr>\n      <th>9</th>\n      <td>경기</td>\n      <td>2011</td>\n      <td>11937415</td>\n      <td>6015357</td>\n      <td>5922058</td>\n    </tr>\n    <tr>\n      <th>10</th>\n      <td>강원</td>\n      <td>2011</td>\n      <td>1536448</td>\n      <td>773278</td>\n      <td>763170</td>\n    </tr>\n    <tr>\n      <th>11</th>\n      <td>충북</td>\n      <td>2011</td>\n      <td>1562903</td>\n      <td>787981</td>\n      <td>774922</td>\n    </tr>\n    <tr>\n      <th>12</th>\n      <td>충남</td>\n      <td>2011</td>\n      <td>2101284</td>\n      <td>1063012</td>\n      <td>1038272</td>\n    </tr>\n    <tr>\n      <th>13</th>\n      <td>전북</td>\n      <td>2011</td>\n      <td>1874031</td>\n      <td>934002</td>\n      <td>940029</td>\n    </tr>\n    <tr>\n      <th>14</th>\n      <td>전남</td>\n      <td>2011</td>\n      <td>1914339</td>\n      <td>956747</td>\n      <td>957592</td>\n    </tr>\n    <tr>\n      <th>15</th>\n      <td>경북</td>\n      <td>2011</td>\n      <td>2699195</td>\n      <td>1355727</td>\n      <td>1343468</td>\n    </tr>\n    <tr>\n      <th>16</th>\n      <td>경남</td>\n      <td>2011</td>\n      <td>3308765</td>\n      <td>1664755</td>\n      <td>1644010</td>\n    </tr>\n    <tr>\n      <th>17</th>\n      <td>제주</td>\n      <td>2011</td>\n      <td>576156</td>\n      <td>288152</td>\n      <td>288004</td>\n    </tr>\n  </tbody>\n</table>\n</div>"
     },
     "metadata": {},
     "execution_count": 21
    }
   ],
   "source": [
    "df_2011_all = pd.merge(df_2011_all,df_2011_f,on=['행정구역','년도'],how='inner')\n",
    "df_2011_all"
   ]
  },
  {
   "cell_type": "code",
   "execution_count": 22,
   "metadata": {},
   "outputs": [],
   "source": [
    "def population(n):\n",
    "    #인구수\n",
    "    df_temp = pd.melt(df,id_vars=['행정구역'],value_vars = [str(n) + '년_총인구수'],var_name='년도',value_name='인구수')\n",
    "    df_temp.년도 = n\n",
    "\n",
    "    #남자인구수\n",
    "    df_temp_m = pd.melt(df,id_vars=['행정구역'],value_vars = [str(n) + '년_남자 인구수'],var_name='년도',value_name='남자')\n",
    "    df_temp_m.년도 = n\n",
    "\n",
    "    #여자인구수\n",
    "    df_temp_f = pd.melt(df,id_vars=['행정구역'],value_vars = [str(n) + '년_여자 인구수'],var_name='년도',value_name='여자')\n",
    "    df_temp_f.년도 = n\n",
    "\n",
    "    #merge\n",
    "    df_temp = pd.merge(df_temp,df_temp_m,on=['행정구역','년도'],how='inner')\n",
    "    globals()['df_{}_all'.format(n)] = pd.merge(df_temp,df_temp_f,on=['행정구역','년도'],how='inner')\n",
    "\n",
    "    #df_2011_all, df_2012_all, ..., df_2020_all"
   ]
  },
  {
   "cell_type": "code",
   "execution_count": 23,
   "metadata": {},
   "outputs": [],
   "source": [
    "for i in range(2012,2021) :\n",
    "    population(i)"
   ]
  },
  {
   "cell_type": "code",
   "execution_count": 24,
   "metadata": {},
   "outputs": [
    {
     "output_type": "execute_result",
     "data": {
      "text/plain": [
       "   행정구역    년도       인구수        남자        여자\n",
       "0    전국  2012  50948272  25504060  25444212\n",
       "1    서울  2012  10195318   5041336   5153982\n",
       "2    부산  2012   3538484   1754479   1784005\n",
       "3    대구  2012   2505644   1249320   1256324\n",
       "4    인청  2012   2843981   1431593   1412388\n",
       "5    광주  2012   1469216    728406    740810\n",
       "6    대전  2012   1524583    763671    760912\n",
       "7    울산  2012   1147256    590424    556832\n",
       "8    세종  2012    113117     57633     55484\n",
       "9    경기  2012  12093299   6091035   6002264\n",
       "10   강원  2012   1538630    774273    764357\n",
       "11   충북  2012   1565628    789286    776342\n",
       "12   충남  2012   2028777   1026812   1001965\n",
       "13   전북  2012   1873341    933386    939955\n",
       "14   전남  2012   1909618    954354    955264\n",
       "15   경북  2012   2698353   1355294   1343059\n",
       "16   경남  2012   3319314   1670545   1648769\n",
       "17   제주  2012    583713    292213    291500"
      ],
      "text/html": "<div>\n<style scoped>\n    .dataframe tbody tr th:only-of-type {\n        vertical-align: middle;\n    }\n\n    .dataframe tbody tr th {\n        vertical-align: top;\n    }\n\n    .dataframe thead th {\n        text-align: right;\n    }\n</style>\n<table border=\"1\" class=\"dataframe\">\n  <thead>\n    <tr style=\"text-align: right;\">\n      <th></th>\n      <th>행정구역</th>\n      <th>년도</th>\n      <th>인구수</th>\n      <th>남자</th>\n      <th>여자</th>\n    </tr>\n  </thead>\n  <tbody>\n    <tr>\n      <th>0</th>\n      <td>전국</td>\n      <td>2012</td>\n      <td>50948272</td>\n      <td>25504060</td>\n      <td>25444212</td>\n    </tr>\n    <tr>\n      <th>1</th>\n      <td>서울</td>\n      <td>2012</td>\n      <td>10195318</td>\n      <td>5041336</td>\n      <td>5153982</td>\n    </tr>\n    <tr>\n      <th>2</th>\n      <td>부산</td>\n      <td>2012</td>\n      <td>3538484</td>\n      <td>1754479</td>\n      <td>1784005</td>\n    </tr>\n    <tr>\n      <th>3</th>\n      <td>대구</td>\n      <td>2012</td>\n      <td>2505644</td>\n      <td>1249320</td>\n      <td>1256324</td>\n    </tr>\n    <tr>\n      <th>4</th>\n      <td>인청</td>\n      <td>2012</td>\n      <td>2843981</td>\n      <td>1431593</td>\n      <td>1412388</td>\n    </tr>\n    <tr>\n      <th>5</th>\n      <td>광주</td>\n      <td>2012</td>\n      <td>1469216</td>\n      <td>728406</td>\n      <td>740810</td>\n    </tr>\n    <tr>\n      <th>6</th>\n      <td>대전</td>\n      <td>2012</td>\n      <td>1524583</td>\n      <td>763671</td>\n      <td>760912</td>\n    </tr>\n    <tr>\n      <th>7</th>\n      <td>울산</td>\n      <td>2012</td>\n      <td>1147256</td>\n      <td>590424</td>\n      <td>556832</td>\n    </tr>\n    <tr>\n      <th>8</th>\n      <td>세종</td>\n      <td>2012</td>\n      <td>113117</td>\n      <td>57633</td>\n      <td>55484</td>\n    </tr>\n    <tr>\n      <th>9</th>\n      <td>경기</td>\n      <td>2012</td>\n      <td>12093299</td>\n      <td>6091035</td>\n      <td>6002264</td>\n    </tr>\n    <tr>\n      <th>10</th>\n      <td>강원</td>\n      <td>2012</td>\n      <td>1538630</td>\n      <td>774273</td>\n      <td>764357</td>\n    </tr>\n    <tr>\n      <th>11</th>\n      <td>충북</td>\n      <td>2012</td>\n      <td>1565628</td>\n      <td>789286</td>\n      <td>776342</td>\n    </tr>\n    <tr>\n      <th>12</th>\n      <td>충남</td>\n      <td>2012</td>\n      <td>2028777</td>\n      <td>1026812</td>\n      <td>1001965</td>\n    </tr>\n    <tr>\n      <th>13</th>\n      <td>전북</td>\n      <td>2012</td>\n      <td>1873341</td>\n      <td>933386</td>\n      <td>939955</td>\n    </tr>\n    <tr>\n      <th>14</th>\n      <td>전남</td>\n      <td>2012</td>\n      <td>1909618</td>\n      <td>954354</td>\n      <td>955264</td>\n    </tr>\n    <tr>\n      <th>15</th>\n      <td>경북</td>\n      <td>2012</td>\n      <td>2698353</td>\n      <td>1355294</td>\n      <td>1343059</td>\n    </tr>\n    <tr>\n      <th>16</th>\n      <td>경남</td>\n      <td>2012</td>\n      <td>3319314</td>\n      <td>1670545</td>\n      <td>1648769</td>\n    </tr>\n    <tr>\n      <th>17</th>\n      <td>제주</td>\n      <td>2012</td>\n      <td>583713</td>\n      <td>292213</td>\n      <td>291500</td>\n    </tr>\n  </tbody>\n</table>\n</div>"
     },
     "metadata": {},
     "execution_count": 24
    }
   ],
   "source": [
    "df_2012_all"
   ]
  },
  {
   "cell_type": "code",
   "execution_count": 25,
   "metadata": {},
   "outputs": [
    {
     "output_type": "execute_result",
     "data": {
      "text/plain": [
       "   행정구역    년도       인구수        남자        여자\n",
       "0    전국  2011  50734284  25406934  25327350\n",
       "1    서울  2011  10249679   5073899   5175780\n",
       "2    부산  2011   3550963   1762848   1788115\n",
       "3    대구  2011   2507271   1251577   1255694\n",
       "4    인청  2011   2801274   1410980   1390294\n",
       "5    광주  2011   1463464    725606    737858\n",
       "6    대전  2011   1515603    759188    756415\n",
       "7    울산  2011   1135494    583825    551669\n",
       "8    세종  2011         0         0         0\n",
       "9    경기  2011  11937415   6015357   5922058\n",
       "10   강원  2011   1536448    773278    763170\n",
       "11   충북  2011   1562903    787981    774922\n",
       "12   충남  2011   2101284   1063012   1038272\n",
       "13   전북  2011   1874031    934002    940029\n",
       "14   전남  2011   1914339    956747    957592\n",
       "15   경북  2011   2699195   1355727   1343468\n",
       "16   경남  2011   3308765   1664755   1644010\n",
       "17   제주  2011    576156    288152    288004\n",
       "0    전국  2012  50948272  25504060  25444212\n",
       "1    서울  2012  10195318   5041336   5153982\n",
       "2    부산  2012   3538484   1754479   1784005\n",
       "3    대구  2012   2505644   1249320   1256324\n",
       "4    인청  2012   2843981   1431593   1412388\n",
       "5    광주  2012   1469216    728406    740810\n",
       "6    대전  2012   1524583    763671    760912\n",
       "7    울산  2012   1147256    590424    556832\n",
       "8    세종  2012    113117     57633     55484\n",
       "9    경기  2012  12093299   6091035   6002264\n",
       "10   강원  2012   1538630    774273    764357\n",
       "11   충북  2012   1565628    789286    776342\n",
       "12   충남  2012   2028777   1026812   1001965\n",
       "13   전북  2012   1873341    933386    939955\n",
       "14   전남  2012   1909618    954354    955264\n",
       "15   경북  2012   2698353   1355294   1343059\n",
       "16   경남  2012   3319314   1670545   1648769\n",
       "17   제주  2012    583713    292213    291500"
      ],
      "text/html": "<div>\n<style scoped>\n    .dataframe tbody tr th:only-of-type {\n        vertical-align: middle;\n    }\n\n    .dataframe tbody tr th {\n        vertical-align: top;\n    }\n\n    .dataframe thead th {\n        text-align: right;\n    }\n</style>\n<table border=\"1\" class=\"dataframe\">\n  <thead>\n    <tr style=\"text-align: right;\">\n      <th></th>\n      <th>행정구역</th>\n      <th>년도</th>\n      <th>인구수</th>\n      <th>남자</th>\n      <th>여자</th>\n    </tr>\n  </thead>\n  <tbody>\n    <tr>\n      <th>0</th>\n      <td>전국</td>\n      <td>2011</td>\n      <td>50734284</td>\n      <td>25406934</td>\n      <td>25327350</td>\n    </tr>\n    <tr>\n      <th>1</th>\n      <td>서울</td>\n      <td>2011</td>\n      <td>10249679</td>\n      <td>5073899</td>\n      <td>5175780</td>\n    </tr>\n    <tr>\n      <th>2</th>\n      <td>부산</td>\n      <td>2011</td>\n      <td>3550963</td>\n      <td>1762848</td>\n      <td>1788115</td>\n    </tr>\n    <tr>\n      <th>3</th>\n      <td>대구</td>\n      <td>2011</td>\n      <td>2507271</td>\n      <td>1251577</td>\n      <td>1255694</td>\n    </tr>\n    <tr>\n      <th>4</th>\n      <td>인청</td>\n      <td>2011</td>\n      <td>2801274</td>\n      <td>1410980</td>\n      <td>1390294</td>\n    </tr>\n    <tr>\n      <th>5</th>\n      <td>광주</td>\n      <td>2011</td>\n      <td>1463464</td>\n      <td>725606</td>\n      <td>737858</td>\n    </tr>\n    <tr>\n      <th>6</th>\n      <td>대전</td>\n      <td>2011</td>\n      <td>1515603</td>\n      <td>759188</td>\n      <td>756415</td>\n    </tr>\n    <tr>\n      <th>7</th>\n      <td>울산</td>\n      <td>2011</td>\n      <td>1135494</td>\n      <td>583825</td>\n      <td>551669</td>\n    </tr>\n    <tr>\n      <th>8</th>\n      <td>세종</td>\n      <td>2011</td>\n      <td>0</td>\n      <td>0</td>\n      <td>0</td>\n    </tr>\n    <tr>\n      <th>9</th>\n      <td>경기</td>\n      <td>2011</td>\n      <td>11937415</td>\n      <td>6015357</td>\n      <td>5922058</td>\n    </tr>\n    <tr>\n      <th>10</th>\n      <td>강원</td>\n      <td>2011</td>\n      <td>1536448</td>\n      <td>773278</td>\n      <td>763170</td>\n    </tr>\n    <tr>\n      <th>11</th>\n      <td>충북</td>\n      <td>2011</td>\n      <td>1562903</td>\n      <td>787981</td>\n      <td>774922</td>\n    </tr>\n    <tr>\n      <th>12</th>\n      <td>충남</td>\n      <td>2011</td>\n      <td>2101284</td>\n      <td>1063012</td>\n      <td>1038272</td>\n    </tr>\n    <tr>\n      <th>13</th>\n      <td>전북</td>\n      <td>2011</td>\n      <td>1874031</td>\n      <td>934002</td>\n      <td>940029</td>\n    </tr>\n    <tr>\n      <th>14</th>\n      <td>전남</td>\n      <td>2011</td>\n      <td>1914339</td>\n      <td>956747</td>\n      <td>957592</td>\n    </tr>\n    <tr>\n      <th>15</th>\n      <td>경북</td>\n      <td>2011</td>\n      <td>2699195</td>\n      <td>1355727</td>\n      <td>1343468</td>\n    </tr>\n    <tr>\n      <th>16</th>\n      <td>경남</td>\n      <td>2011</td>\n      <td>3308765</td>\n      <td>1664755</td>\n      <td>1644010</td>\n    </tr>\n    <tr>\n      <th>17</th>\n      <td>제주</td>\n      <td>2011</td>\n      <td>576156</td>\n      <td>288152</td>\n      <td>288004</td>\n    </tr>\n    <tr>\n      <th>0</th>\n      <td>전국</td>\n      <td>2012</td>\n      <td>50948272</td>\n      <td>25504060</td>\n      <td>25444212</td>\n    </tr>\n    <tr>\n      <th>1</th>\n      <td>서울</td>\n      <td>2012</td>\n      <td>10195318</td>\n      <td>5041336</td>\n      <td>5153982</td>\n    </tr>\n    <tr>\n      <th>2</th>\n      <td>부산</td>\n      <td>2012</td>\n      <td>3538484</td>\n      <td>1754479</td>\n      <td>1784005</td>\n    </tr>\n    <tr>\n      <th>3</th>\n      <td>대구</td>\n      <td>2012</td>\n      <td>2505644</td>\n      <td>1249320</td>\n      <td>1256324</td>\n    </tr>\n    <tr>\n      <th>4</th>\n      <td>인청</td>\n      <td>2012</td>\n      <td>2843981</td>\n      <td>1431593</td>\n      <td>1412388</td>\n    </tr>\n    <tr>\n      <th>5</th>\n      <td>광주</td>\n      <td>2012</td>\n      <td>1469216</td>\n      <td>728406</td>\n      <td>740810</td>\n    </tr>\n    <tr>\n      <th>6</th>\n      <td>대전</td>\n      <td>2012</td>\n      <td>1524583</td>\n      <td>763671</td>\n      <td>760912</td>\n    </tr>\n    <tr>\n      <th>7</th>\n      <td>울산</td>\n      <td>2012</td>\n      <td>1147256</td>\n      <td>590424</td>\n      <td>556832</td>\n    </tr>\n    <tr>\n      <th>8</th>\n      <td>세종</td>\n      <td>2012</td>\n      <td>113117</td>\n      <td>57633</td>\n      <td>55484</td>\n    </tr>\n    <tr>\n      <th>9</th>\n      <td>경기</td>\n      <td>2012</td>\n      <td>12093299</td>\n      <td>6091035</td>\n      <td>6002264</td>\n    </tr>\n    <tr>\n      <th>10</th>\n      <td>강원</td>\n      <td>2012</td>\n      <td>1538630</td>\n      <td>774273</td>\n      <td>764357</td>\n    </tr>\n    <tr>\n      <th>11</th>\n      <td>충북</td>\n      <td>2012</td>\n      <td>1565628</td>\n      <td>789286</td>\n      <td>776342</td>\n    </tr>\n    <tr>\n      <th>12</th>\n      <td>충남</td>\n      <td>2012</td>\n      <td>2028777</td>\n      <td>1026812</td>\n      <td>1001965</td>\n    </tr>\n    <tr>\n      <th>13</th>\n      <td>전북</td>\n      <td>2012</td>\n      <td>1873341</td>\n      <td>933386</td>\n      <td>939955</td>\n    </tr>\n    <tr>\n      <th>14</th>\n      <td>전남</td>\n      <td>2012</td>\n      <td>1909618</td>\n      <td>954354</td>\n      <td>955264</td>\n    </tr>\n    <tr>\n      <th>15</th>\n      <td>경북</td>\n      <td>2012</td>\n      <td>2698353</td>\n      <td>1355294</td>\n      <td>1343059</td>\n    </tr>\n    <tr>\n      <th>16</th>\n      <td>경남</td>\n      <td>2012</td>\n      <td>3319314</td>\n      <td>1670545</td>\n      <td>1648769</td>\n    </tr>\n    <tr>\n      <th>17</th>\n      <td>제주</td>\n      <td>2012</td>\n      <td>583713</td>\n      <td>292213</td>\n      <td>291500</td>\n    </tr>\n  </tbody>\n</table>\n</div>"
     },
     "metadata": {},
     "execution_count": 25
    }
   ],
   "source": [
    "# df_2011_all ~ df_2020_all\n",
    "df_all = pd.concat([df_2011_all,df_2012_all])\n",
    "df_all"
   ]
  },
  {
   "cell_type": "code",
   "execution_count": 27,
   "metadata": {},
   "outputs": [
    {
     "output_type": "execute_result",
     "data": {
      "text/plain": [
       "   행정구역    년도       인구수        남자        여자\n",
       "0    전국  2011  50734284  25406934  25327350\n",
       "1    서울  2011  10249679   5073899   5175780\n",
       "2    부산  2011   3550963   1762848   1788115\n",
       "3    대구  2011   2507271   1251577   1255694\n",
       "4    인청  2011   2801274   1410980   1390294\n",
       "..  ...   ...       ...       ...       ...\n",
       "13   전북  2020   1804104    896874    907230\n",
       "14   전남  2020   1851549    930615    920934\n",
       "15   경북  2020   2639422   1329211   1310211\n",
       "16   경남  2020   3340216   1681423   1658793\n",
       "17   제주  2020    674635    338609    336026\n",
       "\n",
       "[180 rows x 5 columns]"
      ],
      "text/html": "<div>\n<style scoped>\n    .dataframe tbody tr th:only-of-type {\n        vertical-align: middle;\n    }\n\n    .dataframe tbody tr th {\n        vertical-align: top;\n    }\n\n    .dataframe thead th {\n        text-align: right;\n    }\n</style>\n<table border=\"1\" class=\"dataframe\">\n  <thead>\n    <tr style=\"text-align: right;\">\n      <th></th>\n      <th>행정구역</th>\n      <th>년도</th>\n      <th>인구수</th>\n      <th>남자</th>\n      <th>여자</th>\n    </tr>\n  </thead>\n  <tbody>\n    <tr>\n      <th>0</th>\n      <td>전국</td>\n      <td>2011</td>\n      <td>50734284</td>\n      <td>25406934</td>\n      <td>25327350</td>\n    </tr>\n    <tr>\n      <th>1</th>\n      <td>서울</td>\n      <td>2011</td>\n      <td>10249679</td>\n      <td>5073899</td>\n      <td>5175780</td>\n    </tr>\n    <tr>\n      <th>2</th>\n      <td>부산</td>\n      <td>2011</td>\n      <td>3550963</td>\n      <td>1762848</td>\n      <td>1788115</td>\n    </tr>\n    <tr>\n      <th>3</th>\n      <td>대구</td>\n      <td>2011</td>\n      <td>2507271</td>\n      <td>1251577</td>\n      <td>1255694</td>\n    </tr>\n    <tr>\n      <th>4</th>\n      <td>인청</td>\n      <td>2011</td>\n      <td>2801274</td>\n      <td>1410980</td>\n      <td>1390294</td>\n    </tr>\n    <tr>\n      <th>...</th>\n      <td>...</td>\n      <td>...</td>\n      <td>...</td>\n      <td>...</td>\n      <td>...</td>\n    </tr>\n    <tr>\n      <th>13</th>\n      <td>전북</td>\n      <td>2020</td>\n      <td>1804104</td>\n      <td>896874</td>\n      <td>907230</td>\n    </tr>\n    <tr>\n      <th>14</th>\n      <td>전남</td>\n      <td>2020</td>\n      <td>1851549</td>\n      <td>930615</td>\n      <td>920934</td>\n    </tr>\n    <tr>\n      <th>15</th>\n      <td>경북</td>\n      <td>2020</td>\n      <td>2639422</td>\n      <td>1329211</td>\n      <td>1310211</td>\n    </tr>\n    <tr>\n      <th>16</th>\n      <td>경남</td>\n      <td>2020</td>\n      <td>3340216</td>\n      <td>1681423</td>\n      <td>1658793</td>\n    </tr>\n    <tr>\n      <th>17</th>\n      <td>제주</td>\n      <td>2020</td>\n      <td>674635</td>\n      <td>338609</td>\n      <td>336026</td>\n    </tr>\n  </tbody>\n</table>\n<p>180 rows × 5 columns</p>\n</div>"
     },
     "metadata": {},
     "execution_count": 27
    }
   ],
   "source": [
    "for n in range(2013,2021) : \n",
    "    df_all = pd.concat([df_all,globals()['df_{}_all'.format(n)]])\n",
    "df_all"
   ]
  },
  {
   "cell_type": "code",
   "execution_count": 29,
   "metadata": {},
   "outputs": [
    {
     "output_type": "execute_result",
     "data": {
      "text/plain": [
       "<matplotlib.axes._subplots.AxesSubplot at 0x1cd41130>"
      ]
     },
     "metadata": {},
     "execution_count": 29
    },
    {
     "output_type": "stream",
     "name": "stderr",
     "text": [
      "C:\\Users\\USER\\AppData\\Local\\Programs\\Python\\Python38-32\\lib\\site-packages\\matplotlib\\textpath.py:84: RuntimeWarning: Glyph 45380 missing from current font.\n",
      "  font.set_text(s, 0.0, flags=LOAD_NO_HINTING)\n",
      "C:\\Users\\USER\\AppData\\Local\\Programs\\Python\\Python38-32\\lib\\site-packages\\matplotlib\\textpath.py:84: RuntimeWarning: Glyph 46020 missing from current font.\n",
      "  font.set_text(s, 0.0, flags=LOAD_NO_HINTING)\n",
      "C:\\Users\\USER\\AppData\\Local\\Programs\\Python\\Python38-32\\lib\\site-packages\\matplotlib\\textpath.py:84: RuntimeWarning: Glyph 51064 missing from current font.\n",
      "  font.set_text(s, 0.0, flags=LOAD_NO_HINTING)\n",
      "C:\\Users\\USER\\AppData\\Local\\Programs\\Python\\Python38-32\\lib\\site-packages\\matplotlib\\textpath.py:84: RuntimeWarning: Glyph 44396 missing from current font.\n",
      "  font.set_text(s, 0.0, flags=LOAD_NO_HINTING)\n",
      "C:\\Users\\USER\\AppData\\Local\\Programs\\Python\\Python38-32\\lib\\site-packages\\matplotlib\\textpath.py:84: RuntimeWarning: Glyph 49688 missing from current font.\n",
      "  font.set_text(s, 0.0, flags=LOAD_NO_HINTING)\n",
      "C:\\Users\\USER\\AppData\\Local\\Programs\\Python\\Python38-32\\lib\\site-packages\\matplotlib\\textpath.py:84: RuntimeWarning: Glyph 54665 missing from current font.\n",
      "  font.set_text(s, 0.0, flags=LOAD_NO_HINTING)\n",
      "C:\\Users\\USER\\AppData\\Local\\Programs\\Python\\Python38-32\\lib\\site-packages\\matplotlib\\textpath.py:84: RuntimeWarning: Glyph 51221 missing from current font.\n",
      "  font.set_text(s, 0.0, flags=LOAD_NO_HINTING)\n",
      "C:\\Users\\USER\\AppData\\Local\\Programs\\Python\\Python38-32\\lib\\site-packages\\matplotlib\\textpath.py:84: RuntimeWarning: Glyph 50669 missing from current font.\n",
      "  font.set_text(s, 0.0, flags=LOAD_NO_HINTING)\n",
      "C:\\Users\\USER\\AppData\\Local\\Programs\\Python\\Python38-32\\lib\\site-packages\\matplotlib\\textpath.py:84: RuntimeWarning: Glyph 51204 missing from current font.\n",
      "  font.set_text(s, 0.0, flags=LOAD_NO_HINTING)\n",
      "C:\\Users\\USER\\AppData\\Local\\Programs\\Python\\Python38-32\\lib\\site-packages\\matplotlib\\textpath.py:84: RuntimeWarning: Glyph 44397 missing from current font.\n",
      "  font.set_text(s, 0.0, flags=LOAD_NO_HINTING)\n",
      "C:\\Users\\USER\\AppData\\Local\\Programs\\Python\\Python38-32\\lib\\site-packages\\matplotlib\\textpath.py:84: RuntimeWarning: Glyph 49436 missing from current font.\n",
      "  font.set_text(s, 0.0, flags=LOAD_NO_HINTING)\n",
      "C:\\Users\\USER\\AppData\\Local\\Programs\\Python\\Python38-32\\lib\\site-packages\\matplotlib\\textpath.py:84: RuntimeWarning: Glyph 50872 missing from current font.\n",
      "  font.set_text(s, 0.0, flags=LOAD_NO_HINTING)\n",
      "C:\\Users\\USER\\AppData\\Local\\Programs\\Python\\Python38-32\\lib\\site-packages\\matplotlib\\textpath.py:84: RuntimeWarning: Glyph 48512 missing from current font.\n",
      "  font.set_text(s, 0.0, flags=LOAD_NO_HINTING)\n",
      "C:\\Users\\USER\\AppData\\Local\\Programs\\Python\\Python38-32\\lib\\site-packages\\matplotlib\\textpath.py:84: RuntimeWarning: Glyph 49328 missing from current font.\n",
      "  font.set_text(s, 0.0, flags=LOAD_NO_HINTING)\n",
      "C:\\Users\\USER\\AppData\\Local\\Programs\\Python\\Python38-32\\lib\\site-packages\\matplotlib\\textpath.py:84: RuntimeWarning: Glyph 45824 missing from current font.\n",
      "  font.set_text(s, 0.0, flags=LOAD_NO_HINTING)\n",
      "C:\\Users\\USER\\AppData\\Local\\Programs\\Python\\Python38-32\\lib\\site-packages\\matplotlib\\textpath.py:84: RuntimeWarning: Glyph 52397 missing from current font.\n",
      "  font.set_text(s, 0.0, flags=LOAD_NO_HINTING)\n",
      "C:\\Users\\USER\\AppData\\Local\\Programs\\Python\\Python38-32\\lib\\site-packages\\matplotlib\\textpath.py:84: RuntimeWarning: Glyph 44305 missing from current font.\n",
      "  font.set_text(s, 0.0, flags=LOAD_NO_HINTING)\n",
      "C:\\Users\\USER\\AppData\\Local\\Programs\\Python\\Python38-32\\lib\\site-packages\\matplotlib\\textpath.py:84: RuntimeWarning: Glyph 51452 missing from current font.\n",
      "  font.set_text(s, 0.0, flags=LOAD_NO_HINTING)\n",
      "C:\\Users\\USER\\AppData\\Local\\Programs\\Python\\Python38-32\\lib\\site-packages\\matplotlib\\textpath.py:84: RuntimeWarning: Glyph 49464 missing from current font.\n",
      "  font.set_text(s, 0.0, flags=LOAD_NO_HINTING)\n",
      "C:\\Users\\USER\\AppData\\Local\\Programs\\Python\\Python38-32\\lib\\site-packages\\matplotlib\\textpath.py:84: RuntimeWarning: Glyph 51333 missing from current font.\n",
      "  font.set_text(s, 0.0, flags=LOAD_NO_HINTING)\n",
      "C:\\Users\\USER\\AppData\\Local\\Programs\\Python\\Python38-32\\lib\\site-packages\\matplotlib\\textpath.py:84: RuntimeWarning: Glyph 44221 missing from current font.\n",
      "  font.set_text(s, 0.0, flags=LOAD_NO_HINTING)\n",
      "C:\\Users\\USER\\AppData\\Local\\Programs\\Python\\Python38-32\\lib\\site-packages\\matplotlib\\textpath.py:84: RuntimeWarning: Glyph 44592 missing from current font.\n",
      "  font.set_text(s, 0.0, flags=LOAD_NO_HINTING)\n",
      "C:\\Users\\USER\\AppData\\Local\\Programs\\Python\\Python38-32\\lib\\site-packages\\matplotlib\\textpath.py:84: RuntimeWarning: Glyph 44053 missing from current font.\n",
      "  font.set_text(s, 0.0, flags=LOAD_NO_HINTING)\n",
      "C:\\Users\\USER\\AppData\\Local\\Programs\\Python\\Python38-32\\lib\\site-packages\\matplotlib\\textpath.py:84: RuntimeWarning: Glyph 50896 missing from current font.\n",
      "  font.set_text(s, 0.0, flags=LOAD_NO_HINTING)\n",
      "C:\\Users\\USER\\AppData\\Local\\Programs\\Python\\Python38-32\\lib\\site-packages\\matplotlib\\textpath.py:84: RuntimeWarning: Glyph 52649 missing from current font.\n",
      "  font.set_text(s, 0.0, flags=LOAD_NO_HINTING)\n",
      "C:\\Users\\USER\\AppData\\Local\\Programs\\Python\\Python38-32\\lib\\site-packages\\matplotlib\\textpath.py:84: RuntimeWarning: Glyph 48513 missing from current font.\n",
      "  font.set_text(s, 0.0, flags=LOAD_NO_HINTING)\n",
      "C:\\Users\\USER\\AppData\\Local\\Programs\\Python\\Python38-32\\lib\\site-packages\\matplotlib\\textpath.py:84: RuntimeWarning: Glyph 45224 missing from current font.\n",
      "  font.set_text(s, 0.0, flags=LOAD_NO_HINTING)\n",
      "C:\\Users\\USER\\AppData\\Local\\Programs\\Python\\Python38-32\\lib\\site-packages\\matplotlib\\textpath.py:84: RuntimeWarning: Glyph 51228 missing from current font.\n",
      "  font.set_text(s, 0.0, flags=LOAD_NO_HINTING)\n",
      "C:\\Users\\USER\\AppData\\Local\\Programs\\Python\\Python38-32\\lib\\site-packages\\matplotlib\\backends\\backend_agg.py:214: RuntimeWarning: Glyph 45380 missing from current font.\n",
      "  font.set_text(s, 0.0, flags=flags)\n",
      "C:\\Users\\USER\\AppData\\Local\\Programs\\Python\\Python38-32\\lib\\site-packages\\matplotlib\\backends\\backend_agg.py:214: RuntimeWarning: Glyph 46020 missing from current font.\n",
      "  font.set_text(s, 0.0, flags=flags)\n",
      "C:\\Users\\USER\\AppData\\Local\\Programs\\Python\\Python38-32\\lib\\site-packages\\matplotlib\\backends\\backend_agg.py:214: RuntimeWarning: Glyph 51064 missing from current font.\n",
      "  font.set_text(s, 0.0, flags=flags)\n",
      "C:\\Users\\USER\\AppData\\Local\\Programs\\Python\\Python38-32\\lib\\site-packages\\matplotlib\\backends\\backend_agg.py:214: RuntimeWarning: Glyph 44396 missing from current font.\n",
      "  font.set_text(s, 0.0, flags=flags)\n",
      "C:\\Users\\USER\\AppData\\Local\\Programs\\Python\\Python38-32\\lib\\site-packages\\matplotlib\\backends\\backend_agg.py:214: RuntimeWarning: Glyph 49688 missing from current font.\n",
      "  font.set_text(s, 0.0, flags=flags)\n",
      "C:\\Users\\USER\\AppData\\Local\\Programs\\Python\\Python38-32\\lib\\site-packages\\matplotlib\\backends\\backend_agg.py:214: RuntimeWarning: Glyph 54665 missing from current font.\n",
      "  font.set_text(s, 0.0, flags=flags)\n",
      "C:\\Users\\USER\\AppData\\Local\\Programs\\Python\\Python38-32\\lib\\site-packages\\matplotlib\\backends\\backend_agg.py:214: RuntimeWarning: Glyph 51221 missing from current font.\n",
      "  font.set_text(s, 0.0, flags=flags)\n",
      "C:\\Users\\USER\\AppData\\Local\\Programs\\Python\\Python38-32\\lib\\site-packages\\matplotlib\\backends\\backend_agg.py:214: RuntimeWarning: Glyph 50669 missing from current font.\n",
      "  font.set_text(s, 0.0, flags=flags)\n",
      "C:\\Users\\USER\\AppData\\Local\\Programs\\Python\\Python38-32\\lib\\site-packages\\matplotlib\\backends\\backend_agg.py:214: RuntimeWarning: Glyph 51204 missing from current font.\n",
      "  font.set_text(s, 0.0, flags=flags)\n",
      "C:\\Users\\USER\\AppData\\Local\\Programs\\Python\\Python38-32\\lib\\site-packages\\matplotlib\\backends\\backend_agg.py:214: RuntimeWarning: Glyph 44397 missing from current font.\n",
      "  font.set_text(s, 0.0, flags=flags)\n",
      "C:\\Users\\USER\\AppData\\Local\\Programs\\Python\\Python38-32\\lib\\site-packages\\matplotlib\\backends\\backend_agg.py:214: RuntimeWarning: Glyph 49436 missing from current font.\n",
      "  font.set_text(s, 0.0, flags=flags)\n",
      "C:\\Users\\USER\\AppData\\Local\\Programs\\Python\\Python38-32\\lib\\site-packages\\matplotlib\\backends\\backend_agg.py:214: RuntimeWarning: Glyph 50872 missing from current font.\n",
      "  font.set_text(s, 0.0, flags=flags)\n",
      "C:\\Users\\USER\\AppData\\Local\\Programs\\Python\\Python38-32\\lib\\site-packages\\matplotlib\\backends\\backend_agg.py:214: RuntimeWarning: Glyph 48512 missing from current font.\n",
      "  font.set_text(s, 0.0, flags=flags)\n",
      "C:\\Users\\USER\\AppData\\Local\\Programs\\Python\\Python38-32\\lib\\site-packages\\matplotlib\\backends\\backend_agg.py:214: RuntimeWarning: Glyph 49328 missing from current font.\n",
      "  font.set_text(s, 0.0, flags=flags)\n",
      "C:\\Users\\USER\\AppData\\Local\\Programs\\Python\\Python38-32\\lib\\site-packages\\matplotlib\\backends\\backend_agg.py:214: RuntimeWarning: Glyph 45824 missing from current font.\n",
      "  font.set_text(s, 0.0, flags=flags)\n",
      "C:\\Users\\USER\\AppData\\Local\\Programs\\Python\\Python38-32\\lib\\site-packages\\matplotlib\\backends\\backend_agg.py:214: RuntimeWarning: Glyph 52397 missing from current font.\n",
      "  font.set_text(s, 0.0, flags=flags)\n",
      "C:\\Users\\USER\\AppData\\Local\\Programs\\Python\\Python38-32\\lib\\site-packages\\matplotlib\\backends\\backend_agg.py:214: RuntimeWarning: Glyph 44305 missing from current font.\n",
      "  font.set_text(s, 0.0, flags=flags)\n",
      "C:\\Users\\USER\\AppData\\Local\\Programs\\Python\\Python38-32\\lib\\site-packages\\matplotlib\\backends\\backend_agg.py:214: RuntimeWarning: Glyph 51452 missing from current font.\n",
      "  font.set_text(s, 0.0, flags=flags)\n",
      "C:\\Users\\USER\\AppData\\Local\\Programs\\Python\\Python38-32\\lib\\site-packages\\matplotlib\\backends\\backend_agg.py:214: RuntimeWarning: Glyph 49464 missing from current font.\n",
      "  font.set_text(s, 0.0, flags=flags)\n",
      "C:\\Users\\USER\\AppData\\Local\\Programs\\Python\\Python38-32\\lib\\site-packages\\matplotlib\\backends\\backend_agg.py:214: RuntimeWarning: Glyph 51333 missing from current font.\n",
      "  font.set_text(s, 0.0, flags=flags)\n",
      "C:\\Users\\USER\\AppData\\Local\\Programs\\Python\\Python38-32\\lib\\site-packages\\matplotlib\\backends\\backend_agg.py:214: RuntimeWarning: Glyph 44221 missing from current font.\n",
      "  font.set_text(s, 0.0, flags=flags)\n",
      "C:\\Users\\USER\\AppData\\Local\\Programs\\Python\\Python38-32\\lib\\site-packages\\matplotlib\\backends\\backend_agg.py:214: RuntimeWarning: Glyph 44592 missing from current font.\n",
      "  font.set_text(s, 0.0, flags=flags)\n",
      "C:\\Users\\USER\\AppData\\Local\\Programs\\Python\\Python38-32\\lib\\site-packages\\matplotlib\\backends\\backend_agg.py:214: RuntimeWarning: Glyph 44053 missing from current font.\n",
      "  font.set_text(s, 0.0, flags=flags)\n",
      "C:\\Users\\USER\\AppData\\Local\\Programs\\Python\\Python38-32\\lib\\site-packages\\matplotlib\\backends\\backend_agg.py:214: RuntimeWarning: Glyph 50896 missing from current font.\n",
      "  font.set_text(s, 0.0, flags=flags)\n",
      "C:\\Users\\USER\\AppData\\Local\\Programs\\Python\\Python38-32\\lib\\site-packages\\matplotlib\\backends\\backend_agg.py:214: RuntimeWarning: Glyph 52649 missing from current font.\n",
      "  font.set_text(s, 0.0, flags=flags)\n",
      "C:\\Users\\USER\\AppData\\Local\\Programs\\Python\\Python38-32\\lib\\site-packages\\matplotlib\\backends\\backend_agg.py:214: RuntimeWarning: Glyph 48513 missing from current font.\n",
      "  font.set_text(s, 0.0, flags=flags)\n",
      "C:\\Users\\USER\\AppData\\Local\\Programs\\Python\\Python38-32\\lib\\site-packages\\matplotlib\\backends\\backend_agg.py:214: RuntimeWarning: Glyph 45224 missing from current font.\n",
      "  font.set_text(s, 0.0, flags=flags)\n",
      "C:\\Users\\USER\\AppData\\Local\\Programs\\Python\\Python38-32\\lib\\site-packages\\matplotlib\\backends\\backend_agg.py:214: RuntimeWarning: Glyph 51228 missing from current font.\n",
      "  font.set_text(s, 0.0, flags=flags)\n",
      "C:\\Users\\USER\\AppData\\Local\\Programs\\Python\\Python38-32\\lib\\site-packages\\matplotlib\\backends\\backend_agg.py:183: RuntimeWarning: Glyph 45380 missing from current font.\n",
      "  font.set_text(s, 0, flags=flags)\n",
      "C:\\Users\\USER\\AppData\\Local\\Programs\\Python\\Python38-32\\lib\\site-packages\\matplotlib\\backends\\backend_agg.py:183: RuntimeWarning: Glyph 46020 missing from current font.\n",
      "  font.set_text(s, 0, flags=flags)\n",
      "C:\\Users\\USER\\AppData\\Local\\Programs\\Python\\Python38-32\\lib\\site-packages\\matplotlib\\backends\\backend_agg.py:183: RuntimeWarning: Glyph 51064 missing from current font.\n",
      "  font.set_text(s, 0, flags=flags)\n",
      "C:\\Users\\USER\\AppData\\Local\\Programs\\Python\\Python38-32\\lib\\site-packages\\matplotlib\\backends\\backend_agg.py:183: RuntimeWarning: Glyph 44396 missing from current font.\n",
      "  font.set_text(s, 0, flags=flags)\n",
      "C:\\Users\\USER\\AppData\\Local\\Programs\\Python\\Python38-32\\lib\\site-packages\\matplotlib\\backends\\backend_agg.py:183: RuntimeWarning: Glyph 49688 missing from current font.\n",
      "  font.set_text(s, 0, flags=flags)\n",
      "C:\\Users\\USER\\AppData\\Local\\Programs\\Python\\Python38-32\\lib\\site-packages\\matplotlib\\backends\\backend_agg.py:183: RuntimeWarning: Glyph 54665 missing from current font.\n",
      "  font.set_text(s, 0, flags=flags)\n",
      "C:\\Users\\USER\\AppData\\Local\\Programs\\Python\\Python38-32\\lib\\site-packages\\matplotlib\\backends\\backend_agg.py:183: RuntimeWarning: Glyph 51221 missing from current font.\n",
      "  font.set_text(s, 0, flags=flags)\n",
      "C:\\Users\\USER\\AppData\\Local\\Programs\\Python\\Python38-32\\lib\\site-packages\\matplotlib\\backends\\backend_agg.py:183: RuntimeWarning: Glyph 50669 missing from current font.\n",
      "  font.set_text(s, 0, flags=flags)\n",
      "C:\\Users\\USER\\AppData\\Local\\Programs\\Python\\Python38-32\\lib\\site-packages\\matplotlib\\backends\\backend_agg.py:183: RuntimeWarning: Glyph 51204 missing from current font.\n",
      "  font.set_text(s, 0, flags=flags)\n",
      "C:\\Users\\USER\\AppData\\Local\\Programs\\Python\\Python38-32\\lib\\site-packages\\matplotlib\\backends\\backend_agg.py:183: RuntimeWarning: Glyph 44397 missing from current font.\n",
      "  font.set_text(s, 0, flags=flags)\n",
      "C:\\Users\\USER\\AppData\\Local\\Programs\\Python\\Python38-32\\lib\\site-packages\\matplotlib\\backends\\backend_agg.py:183: RuntimeWarning: Glyph 49436 missing from current font.\n",
      "  font.set_text(s, 0, flags=flags)\n",
      "C:\\Users\\USER\\AppData\\Local\\Programs\\Python\\Python38-32\\lib\\site-packages\\matplotlib\\backends\\backend_agg.py:183: RuntimeWarning: Glyph 50872 missing from current font.\n",
      "  font.set_text(s, 0, flags=flags)\n",
      "C:\\Users\\USER\\AppData\\Local\\Programs\\Python\\Python38-32\\lib\\site-packages\\matplotlib\\backends\\backend_agg.py:183: RuntimeWarning: Glyph 48512 missing from current font.\n",
      "  font.set_text(s, 0, flags=flags)\n",
      "C:\\Users\\USER\\AppData\\Local\\Programs\\Python\\Python38-32\\lib\\site-packages\\matplotlib\\backends\\backend_agg.py:183: RuntimeWarning: Glyph 49328 missing from current font.\n",
      "  font.set_text(s, 0, flags=flags)\n",
      "C:\\Users\\USER\\AppData\\Local\\Programs\\Python\\Python38-32\\lib\\site-packages\\matplotlib\\backends\\backend_agg.py:183: RuntimeWarning: Glyph 45824 missing from current font.\n",
      "  font.set_text(s, 0, flags=flags)\n",
      "C:\\Users\\USER\\AppData\\Local\\Programs\\Python\\Python38-32\\lib\\site-packages\\matplotlib\\backends\\backend_agg.py:183: RuntimeWarning: Glyph 52397 missing from current font.\n",
      "  font.set_text(s, 0, flags=flags)\n",
      "C:\\Users\\USER\\AppData\\Local\\Programs\\Python\\Python38-32\\lib\\site-packages\\matplotlib\\backends\\backend_agg.py:183: RuntimeWarning: Glyph 44305 missing from current font.\n",
      "  font.set_text(s, 0, flags=flags)\n",
      "C:\\Users\\USER\\AppData\\Local\\Programs\\Python\\Python38-32\\lib\\site-packages\\matplotlib\\backends\\backend_agg.py:183: RuntimeWarning: Glyph 51452 missing from current font.\n",
      "  font.set_text(s, 0, flags=flags)\n",
      "C:\\Users\\USER\\AppData\\Local\\Programs\\Python\\Python38-32\\lib\\site-packages\\matplotlib\\backends\\backend_agg.py:183: RuntimeWarning: Glyph 49464 missing from current font.\n",
      "  font.set_text(s, 0, flags=flags)\n",
      "C:\\Users\\USER\\AppData\\Local\\Programs\\Python\\Python38-32\\lib\\site-packages\\matplotlib\\backends\\backend_agg.py:183: RuntimeWarning: Glyph 51333 missing from current font.\n",
      "  font.set_text(s, 0, flags=flags)\n",
      "C:\\Users\\USER\\AppData\\Local\\Programs\\Python\\Python38-32\\lib\\site-packages\\matplotlib\\backends\\backend_agg.py:183: RuntimeWarning: Glyph 44221 missing from current font.\n",
      "  font.set_text(s, 0, flags=flags)\n",
      "C:\\Users\\USER\\AppData\\Local\\Programs\\Python\\Python38-32\\lib\\site-packages\\matplotlib\\backends\\backend_agg.py:183: RuntimeWarning: Glyph 44592 missing from current font.\n",
      "  font.set_text(s, 0, flags=flags)\n",
      "C:\\Users\\USER\\AppData\\Local\\Programs\\Python\\Python38-32\\lib\\site-packages\\matplotlib\\backends\\backend_agg.py:183: RuntimeWarning: Glyph 44053 missing from current font.\n",
      "  font.set_text(s, 0, flags=flags)\n",
      "C:\\Users\\USER\\AppData\\Local\\Programs\\Python\\Python38-32\\lib\\site-packages\\matplotlib\\backends\\backend_agg.py:183: RuntimeWarning: Glyph 50896 missing from current font.\n",
      "  font.set_text(s, 0, flags=flags)\n",
      "C:\\Users\\USER\\AppData\\Local\\Programs\\Python\\Python38-32\\lib\\site-packages\\matplotlib\\backends\\backend_agg.py:183: RuntimeWarning: Glyph 52649 missing from current font.\n",
      "  font.set_text(s, 0, flags=flags)\n",
      "C:\\Users\\USER\\AppData\\Local\\Programs\\Python\\Python38-32\\lib\\site-packages\\matplotlib\\backends\\backend_agg.py:183: RuntimeWarning: Glyph 48513 missing from current font.\n",
      "  font.set_text(s, 0, flags=flags)\n",
      "C:\\Users\\USER\\AppData\\Local\\Programs\\Python\\Python38-32\\lib\\site-packages\\matplotlib\\backends\\backend_agg.py:183: RuntimeWarning: Glyph 45224 missing from current font.\n",
      "  font.set_text(s, 0, flags=flags)\n",
      "C:\\Users\\USER\\AppData\\Local\\Programs\\Python\\Python38-32\\lib\\site-packages\\matplotlib\\backends\\backend_agg.py:183: RuntimeWarning: Glyph 51228 missing from current font.\n",
      "  font.set_text(s, 0, flags=flags)\n"
     ]
    },
    {
     "output_type": "display_data",
     "data": {
      "text/plain": "<Figure size 720x360 with 1 Axes>",
      "image/svg+xml": "<?xml version=\"1.0\" encoding=\"utf-8\" standalone=\"no\"?>\r\n<!DOCTYPE svg PUBLIC \"-//W3C//DTD SVG 1.1//EN\"\r\n  \"http://www.w3.org/Graphics/SVG/1.1/DTD/svg11.dtd\">\r\n<!-- Created with matplotlib (https://matplotlib.org/) -->\r\n<svg height=\"331.640625pt\" version=\"1.1\" viewBox=\"0 0 599.440625 331.640625\" width=\"599.440625pt\" xmlns=\"http://www.w3.org/2000/svg\" xmlns:xlink=\"http://www.w3.org/1999/xlink\">\r\n <defs>\r\n  <style type=\"text/css\">\r\n*{stroke-linecap:butt;stroke-linejoin:round;}\r\n  </style>\r\n </defs>\r\n <g id=\"figure_1\">\r\n  <g id=\"patch_1\">\r\n   <path d=\"M 0 331.640625 \r\nL 599.440625 331.640625 \r\nL 599.440625 0 \r\nL 0 0 \r\nz\r\n\" style=\"fill:none;\"/>\r\n  </g>\r\n  <g id=\"axes_1\">\r\n   <g id=\"patch_2\">\r\n    <path d=\"M 34.240625 294.084375 \r\nL 592.240625 294.084375 \r\nL 592.240625 22.284375 \r\nL 34.240625 22.284375 \r\nz\r\n\" style=\"fill:#ffffff;\"/>\r\n   </g>\r\n   <g id=\"matplotlib.axis_1\">\r\n    <g id=\"xtick_1\">\r\n     <g id=\"line2d_1\">\r\n      <defs>\r\n       <path d=\"M 0 0 \r\nL 0 3.5 \r\n\" id=\"m5a21fb787f\" style=\"stroke:#000000;stroke-width:0.8;\"/>\r\n      </defs>\r\n      <g>\r\n       <use style=\"stroke:#000000;stroke-width:0.8;\" x=\"115.967898\" xlink:href=\"#m5a21fb787f\" y=\"294.084375\"/>\r\n      </g>\r\n     </g>\r\n     <g id=\"text_1\">\r\n      <!-- 2012 -->\r\n      <defs>\r\n       <path d=\"M 19.1875 8.296875 \r\nL 53.609375 8.296875 \r\nL 53.609375 0 \r\nL 7.328125 0 \r\nL 7.328125 8.296875 \r\nQ 12.9375 14.109375 22.625 23.890625 \r\nQ 32.328125 33.6875 34.8125 36.53125 \r\nQ 39.546875 41.84375 41.421875 45.53125 \r\nQ 43.3125 49.21875 43.3125 52.78125 \r\nQ 43.3125 58.59375 39.234375 62.25 \r\nQ 35.15625 65.921875 28.609375 65.921875 \r\nQ 23.96875 65.921875 18.8125 64.3125 \r\nQ 13.671875 62.703125 7.8125 59.421875 \r\nL 7.8125 69.390625 \r\nQ 13.765625 71.78125 18.9375 73 \r\nQ 24.125 74.21875 28.421875 74.21875 \r\nQ 39.75 74.21875 46.484375 68.546875 \r\nQ 53.21875 62.890625 53.21875 53.421875 \r\nQ 53.21875 48.921875 51.53125 44.890625 \r\nQ 49.859375 40.875 45.40625 35.40625 \r\nQ 44.1875 33.984375 37.640625 27.21875 \r\nQ 31.109375 20.453125 19.1875 8.296875 \r\nz\r\n\" id=\"DejaVuSans-50\"/>\r\n       <path d=\"M 31.78125 66.40625 \r\nQ 24.171875 66.40625 20.328125 58.90625 \r\nQ 16.5 51.421875 16.5 36.375 \r\nQ 16.5 21.390625 20.328125 13.890625 \r\nQ 24.171875 6.390625 31.78125 6.390625 \r\nQ 39.453125 6.390625 43.28125 13.890625 \r\nQ 47.125 21.390625 47.125 36.375 \r\nQ 47.125 51.421875 43.28125 58.90625 \r\nQ 39.453125 66.40625 31.78125 66.40625 \r\nz\r\nM 31.78125 74.21875 \r\nQ 44.046875 74.21875 50.515625 64.515625 \r\nQ 56.984375 54.828125 56.984375 36.375 \r\nQ 56.984375 17.96875 50.515625 8.265625 \r\nQ 44.046875 -1.421875 31.78125 -1.421875 \r\nQ 19.53125 -1.421875 13.0625 8.265625 \r\nQ 6.59375 17.96875 6.59375 36.375 \r\nQ 6.59375 54.828125 13.0625 64.515625 \r\nQ 19.53125 74.21875 31.78125 74.21875 \r\nz\r\n\" id=\"DejaVuSans-48\"/>\r\n       <path d=\"M 12.40625 8.296875 \r\nL 28.515625 8.296875 \r\nL 28.515625 63.921875 \r\nL 10.984375 60.40625 \r\nL 10.984375 69.390625 \r\nL 28.421875 72.90625 \r\nL 38.28125 72.90625 \r\nL 38.28125 8.296875 \r\nL 54.390625 8.296875 \r\nL 54.390625 0 \r\nL 12.40625 0 \r\nz\r\n\" id=\"DejaVuSans-49\"/>\r\n      </defs>\r\n      <g transform=\"translate(103.242898 308.682812)scale(0.1 -0.1)\">\r\n       <use xlink:href=\"#DejaVuSans-50\"/>\r\n       <use x=\"63.623047\" xlink:href=\"#DejaVuSans-48\"/>\r\n       <use x=\"127.246094\" xlink:href=\"#DejaVuSans-49\"/>\r\n       <use x=\"190.869141\" xlink:href=\"#DejaVuSans-50\"/>\r\n      </g>\r\n     </g>\r\n    </g>\r\n    <g id=\"xtick_2\">\r\n     <g id=\"line2d_2\">\r\n      <g>\r\n       <use style=\"stroke:#000000;stroke-width:0.8;\" x=\"228.69517\" xlink:href=\"#m5a21fb787f\" y=\"294.084375\"/>\r\n      </g>\r\n     </g>\r\n     <g id=\"text_2\">\r\n      <!-- 2014 -->\r\n      <defs>\r\n       <path d=\"M 37.796875 64.3125 \r\nL 12.890625 25.390625 \r\nL 37.796875 25.390625 \r\nz\r\nM 35.203125 72.90625 \r\nL 47.609375 72.90625 \r\nL 47.609375 25.390625 \r\nL 58.015625 25.390625 \r\nL 58.015625 17.1875 \r\nL 47.609375 17.1875 \r\nL 47.609375 0 \r\nL 37.796875 0 \r\nL 37.796875 17.1875 \r\nL 4.890625 17.1875 \r\nL 4.890625 26.703125 \r\nz\r\n\" id=\"DejaVuSans-52\"/>\r\n      </defs>\r\n      <g transform=\"translate(215.97017 308.682812)scale(0.1 -0.1)\">\r\n       <use xlink:href=\"#DejaVuSans-50\"/>\r\n       <use x=\"63.623047\" xlink:href=\"#DejaVuSans-48\"/>\r\n       <use x=\"127.246094\" xlink:href=\"#DejaVuSans-49\"/>\r\n       <use x=\"190.869141\" xlink:href=\"#DejaVuSans-52\"/>\r\n      </g>\r\n     </g>\r\n    </g>\r\n    <g id=\"xtick_3\">\r\n     <g id=\"line2d_3\">\r\n      <g>\r\n       <use style=\"stroke:#000000;stroke-width:0.8;\" x=\"341.422443\" xlink:href=\"#m5a21fb787f\" y=\"294.084375\"/>\r\n      </g>\r\n     </g>\r\n     <g id=\"text_3\">\r\n      <!-- 2016 -->\r\n      <defs>\r\n       <path d=\"M 33.015625 40.375 \r\nQ 26.375 40.375 22.484375 35.828125 \r\nQ 18.609375 31.296875 18.609375 23.390625 \r\nQ 18.609375 15.53125 22.484375 10.953125 \r\nQ 26.375 6.390625 33.015625 6.390625 \r\nQ 39.65625 6.390625 43.53125 10.953125 \r\nQ 47.40625 15.53125 47.40625 23.390625 \r\nQ 47.40625 31.296875 43.53125 35.828125 \r\nQ 39.65625 40.375 33.015625 40.375 \r\nz\r\nM 52.59375 71.296875 \r\nL 52.59375 62.3125 \r\nQ 48.875 64.0625 45.09375 64.984375 \r\nQ 41.3125 65.921875 37.59375 65.921875 \r\nQ 27.828125 65.921875 22.671875 59.328125 \r\nQ 17.53125 52.734375 16.796875 39.40625 \r\nQ 19.671875 43.65625 24.015625 45.921875 \r\nQ 28.375 48.1875 33.59375 48.1875 \r\nQ 44.578125 48.1875 50.953125 41.515625 \r\nQ 57.328125 34.859375 57.328125 23.390625 \r\nQ 57.328125 12.15625 50.6875 5.359375 \r\nQ 44.046875 -1.421875 33.015625 -1.421875 \r\nQ 20.359375 -1.421875 13.671875 8.265625 \r\nQ 6.984375 17.96875 6.984375 36.375 \r\nQ 6.984375 53.65625 15.1875 63.9375 \r\nQ 23.390625 74.21875 37.203125 74.21875 \r\nQ 40.921875 74.21875 44.703125 73.484375 \r\nQ 48.484375 72.75 52.59375 71.296875 \r\nz\r\n\" id=\"DejaVuSans-54\"/>\r\n      </defs>\r\n      <g transform=\"translate(328.697443 308.682812)scale(0.1 -0.1)\">\r\n       <use xlink:href=\"#DejaVuSans-50\"/>\r\n       <use x=\"63.623047\" xlink:href=\"#DejaVuSans-48\"/>\r\n       <use x=\"127.246094\" xlink:href=\"#DejaVuSans-49\"/>\r\n       <use x=\"190.869141\" xlink:href=\"#DejaVuSans-54\"/>\r\n      </g>\r\n     </g>\r\n    </g>\r\n    <g id=\"xtick_4\">\r\n     <g id=\"line2d_4\">\r\n      <g>\r\n       <use style=\"stroke:#000000;stroke-width:0.8;\" x=\"454.149716\" xlink:href=\"#m5a21fb787f\" y=\"294.084375\"/>\r\n      </g>\r\n     </g>\r\n     <g id=\"text_4\">\r\n      <!-- 2018 -->\r\n      <defs>\r\n       <path d=\"M 31.78125 34.625 \r\nQ 24.75 34.625 20.71875 30.859375 \r\nQ 16.703125 27.09375 16.703125 20.515625 \r\nQ 16.703125 13.921875 20.71875 10.15625 \r\nQ 24.75 6.390625 31.78125 6.390625 \r\nQ 38.8125 6.390625 42.859375 10.171875 \r\nQ 46.921875 13.96875 46.921875 20.515625 \r\nQ 46.921875 27.09375 42.890625 30.859375 \r\nQ 38.875 34.625 31.78125 34.625 \r\nz\r\nM 21.921875 38.8125 \r\nQ 15.578125 40.375 12.03125 44.71875 \r\nQ 8.5 49.078125 8.5 55.328125 \r\nQ 8.5 64.0625 14.71875 69.140625 \r\nQ 20.953125 74.21875 31.78125 74.21875 \r\nQ 42.671875 74.21875 48.875 69.140625 \r\nQ 55.078125 64.0625 55.078125 55.328125 \r\nQ 55.078125 49.078125 51.53125 44.71875 \r\nQ 48 40.375 41.703125 38.8125 \r\nQ 48.828125 37.15625 52.796875 32.3125 \r\nQ 56.78125 27.484375 56.78125 20.515625 \r\nQ 56.78125 9.90625 50.3125 4.234375 \r\nQ 43.84375 -1.421875 31.78125 -1.421875 \r\nQ 19.734375 -1.421875 13.25 4.234375 \r\nQ 6.78125 9.90625 6.78125 20.515625 \r\nQ 6.78125 27.484375 10.78125 32.3125 \r\nQ 14.796875 37.15625 21.921875 38.8125 \r\nz\r\nM 18.3125 54.390625 \r\nQ 18.3125 48.734375 21.84375 45.5625 \r\nQ 25.390625 42.390625 31.78125 42.390625 \r\nQ 38.140625 42.390625 41.71875 45.5625 \r\nQ 45.3125 48.734375 45.3125 54.390625 \r\nQ 45.3125 60.0625 41.71875 63.234375 \r\nQ 38.140625 66.40625 31.78125 66.40625 \r\nQ 25.390625 66.40625 21.84375 63.234375 \r\nQ 18.3125 60.0625 18.3125 54.390625 \r\nz\r\n\" id=\"DejaVuSans-56\"/>\r\n      </defs>\r\n      <g transform=\"translate(441.424716 308.682812)scale(0.1 -0.1)\">\r\n       <use xlink:href=\"#DejaVuSans-50\"/>\r\n       <use x=\"63.623047\" xlink:href=\"#DejaVuSans-48\"/>\r\n       <use x=\"127.246094\" xlink:href=\"#DejaVuSans-49\"/>\r\n       <use x=\"190.869141\" xlink:href=\"#DejaVuSans-56\"/>\r\n      </g>\r\n     </g>\r\n    </g>\r\n    <g id=\"xtick_5\">\r\n     <g id=\"line2d_5\">\r\n      <g>\r\n       <use style=\"stroke:#000000;stroke-width:0.8;\" x=\"566.876989\" xlink:href=\"#m5a21fb787f\" y=\"294.084375\"/>\r\n      </g>\r\n     </g>\r\n     <g id=\"text_5\">\r\n      <!-- 2020 -->\r\n      <g transform=\"translate(554.151989 308.682812)scale(0.1 -0.1)\">\r\n       <use xlink:href=\"#DejaVuSans-50\"/>\r\n       <use x=\"63.623047\" xlink:href=\"#DejaVuSans-48\"/>\r\n       <use x=\"127.246094\" xlink:href=\"#DejaVuSans-50\"/>\r\n       <use x=\"190.869141\" xlink:href=\"#DejaVuSans-48\"/>\r\n      </g>\r\n     </g>\r\n    </g>\r\n    <g id=\"text_6\">\r\n     <!-- 년도 -->\r\n     <defs>\r\n      <path d=\"M 4.984375 -17.671875 \r\nL 4.984375 70.515625 \r\nL 54.984375 70.515625 \r\nL 54.984375 -17.671875 \r\nz\r\nM 10.59375 -12.109375 \r\nL 49.421875 -12.109375 \r\nL 49.421875 64.890625 \r\nL 10.59375 64.890625 \r\nz\r\n\" id=\"DejaVuSans-45380\"/>\r\n      <path d=\"M 4.984375 -17.671875 \r\nL 4.984375 70.515625 \r\nL 54.984375 70.515625 \r\nL 54.984375 -17.671875 \r\nz\r\nM 10.59375 -12.109375 \r\nL 49.421875 -12.109375 \r\nL 49.421875 64.890625 \r\nL 10.59375 64.890625 \r\nz\r\n\" id=\"DejaVuSans-46020\"/>\r\n     </defs>\r\n     <g transform=\"translate(307.239063 322.360937)scale(0.1 -0.1)\">\r\n      <use xlink:href=\"#DejaVuSans-45380\"/>\r\n      <use x=\"60.009766\" xlink:href=\"#DejaVuSans-46020\"/>\r\n     </g>\r\n    </g>\r\n   </g>\r\n   <g id=\"matplotlib.axis_2\">\r\n    <g id=\"ytick_1\">\r\n     <g id=\"line2d_6\">\r\n      <defs>\r\n       <path d=\"M 0 0 \r\nL -3.5 0 \r\n\" id=\"m89b850be1f\" style=\"stroke:#000000;stroke-width:0.8;\"/>\r\n      </defs>\r\n      <g>\r\n       <use style=\"stroke:#000000;stroke-width:0.8;\" x=\"34.240625\" xlink:href=\"#m89b850be1f\" y=\"281.72983\"/>\r\n      </g>\r\n     </g>\r\n     <g id=\"text_7\">\r\n      <!-- 0 -->\r\n      <g transform=\"translate(20.878125 285.529048)scale(0.1 -0.1)\">\r\n       <use xlink:href=\"#DejaVuSans-48\"/>\r\n      </g>\r\n     </g>\r\n    </g>\r\n    <g id=\"ytick_2\">\r\n     <g id=\"line2d_7\">\r\n      <g>\r\n       <use style=\"stroke:#000000;stroke-width:0.8;\" x=\"34.240625\" xlink:href=\"#m89b850be1f\" y=\"234.074753\"/>\r\n      </g>\r\n     </g>\r\n     <g id=\"text_8\">\r\n      <!-- 1 -->\r\n      <g transform=\"translate(20.878125 237.873972)scale(0.1 -0.1)\">\r\n       <use xlink:href=\"#DejaVuSans-49\"/>\r\n      </g>\r\n     </g>\r\n    </g>\r\n    <g id=\"ytick_3\">\r\n     <g id=\"line2d_8\">\r\n      <g>\r\n       <use style=\"stroke:#000000;stroke-width:0.8;\" x=\"34.240625\" xlink:href=\"#m89b850be1f\" y=\"186.419677\"/>\r\n      </g>\r\n     </g>\r\n     <g id=\"text_9\">\r\n      <!-- 2 -->\r\n      <g transform=\"translate(20.878125 190.218895)scale(0.1 -0.1)\">\r\n       <use xlink:href=\"#DejaVuSans-50\"/>\r\n      </g>\r\n     </g>\r\n    </g>\r\n    <g id=\"ytick_4\">\r\n     <g id=\"line2d_9\">\r\n      <g>\r\n       <use style=\"stroke:#000000;stroke-width:0.8;\" x=\"34.240625\" xlink:href=\"#m89b850be1f\" y=\"138.7646\"/>\r\n      </g>\r\n     </g>\r\n     <g id=\"text_10\">\r\n      <!-- 3 -->\r\n      <defs>\r\n       <path d=\"M 40.578125 39.3125 \r\nQ 47.65625 37.796875 51.625 33 \r\nQ 55.609375 28.21875 55.609375 21.1875 \r\nQ 55.609375 10.40625 48.1875 4.484375 \r\nQ 40.765625 -1.421875 27.09375 -1.421875 \r\nQ 22.515625 -1.421875 17.65625 -0.515625 \r\nQ 12.796875 0.390625 7.625 2.203125 \r\nL 7.625 11.71875 \r\nQ 11.71875 9.328125 16.59375 8.109375 \r\nQ 21.484375 6.890625 26.8125 6.890625 \r\nQ 36.078125 6.890625 40.9375 10.546875 \r\nQ 45.796875 14.203125 45.796875 21.1875 \r\nQ 45.796875 27.640625 41.28125 31.265625 \r\nQ 36.765625 34.90625 28.71875 34.90625 \r\nL 20.21875 34.90625 \r\nL 20.21875 43.015625 \r\nL 29.109375 43.015625 \r\nQ 36.375 43.015625 40.234375 45.921875 \r\nQ 44.09375 48.828125 44.09375 54.296875 \r\nQ 44.09375 59.90625 40.109375 62.90625 \r\nQ 36.140625 65.921875 28.71875 65.921875 \r\nQ 24.65625 65.921875 20.015625 65.03125 \r\nQ 15.375 64.15625 9.8125 62.3125 \r\nL 9.8125 71.09375 \r\nQ 15.4375 72.65625 20.34375 73.4375 \r\nQ 25.25 74.21875 29.59375 74.21875 \r\nQ 40.828125 74.21875 47.359375 69.109375 \r\nQ 53.90625 64.015625 53.90625 55.328125 \r\nQ 53.90625 49.265625 50.4375 45.09375 \r\nQ 46.96875 40.921875 40.578125 39.3125 \r\nz\r\n\" id=\"DejaVuSans-51\"/>\r\n      </defs>\r\n      <g transform=\"translate(20.878125 142.563819)scale(0.1 -0.1)\">\r\n       <use xlink:href=\"#DejaVuSans-51\"/>\r\n      </g>\r\n     </g>\r\n    </g>\r\n    <g id=\"ytick_5\">\r\n     <g id=\"line2d_10\">\r\n      <g>\r\n       <use style=\"stroke:#000000;stroke-width:0.8;\" x=\"34.240625\" xlink:href=\"#m89b850be1f\" y=\"91.109524\"/>\r\n      </g>\r\n     </g>\r\n     <g id=\"text_11\">\r\n      <!-- 4 -->\r\n      <g transform=\"translate(20.878125 94.908742)scale(0.1 -0.1)\">\r\n       <use xlink:href=\"#DejaVuSans-52\"/>\r\n      </g>\r\n     </g>\r\n    </g>\r\n    <g id=\"ytick_6\">\r\n     <g id=\"line2d_11\">\r\n      <g>\r\n       <use style=\"stroke:#000000;stroke-width:0.8;\" x=\"34.240625\" xlink:href=\"#m89b850be1f\" y=\"43.454447\"/>\r\n      </g>\r\n     </g>\r\n     <g id=\"text_12\">\r\n      <!-- 5 -->\r\n      <defs>\r\n       <path d=\"M 10.796875 72.90625 \r\nL 49.515625 72.90625 \r\nL 49.515625 64.59375 \r\nL 19.828125 64.59375 \r\nL 19.828125 46.734375 \r\nQ 21.96875 47.46875 24.109375 47.828125 \r\nQ 26.265625 48.1875 28.421875 48.1875 \r\nQ 40.625 48.1875 47.75 41.5 \r\nQ 54.890625 34.8125 54.890625 23.390625 \r\nQ 54.890625 11.625 47.5625 5.09375 \r\nQ 40.234375 -1.421875 26.90625 -1.421875 \r\nQ 22.3125 -1.421875 17.546875 -0.640625 \r\nQ 12.796875 0.140625 7.71875 1.703125 \r\nL 7.71875 11.625 \r\nQ 12.109375 9.234375 16.796875 8.0625 \r\nQ 21.484375 6.890625 26.703125 6.890625 \r\nQ 35.15625 6.890625 40.078125 11.328125 \r\nQ 45.015625 15.765625 45.015625 23.390625 \r\nQ 45.015625 31 40.078125 35.4375 \r\nQ 35.15625 39.890625 26.703125 39.890625 \r\nQ 22.75 39.890625 18.8125 39.015625 \r\nQ 14.890625 38.140625 10.796875 36.28125 \r\nz\r\n\" id=\"DejaVuSans-53\"/>\r\n      </defs>\r\n      <g transform=\"translate(20.878125 47.253666)scale(0.1 -0.1)\">\r\n       <use xlink:href=\"#DejaVuSans-53\"/>\r\n      </g>\r\n     </g>\r\n    </g>\r\n    <g id=\"text_13\">\r\n     <!-- 인구수 -->\r\n     <defs>\r\n      <path d=\"M 4.984375 -17.671875 \r\nL 4.984375 70.515625 \r\nL 54.984375 70.515625 \r\nL 54.984375 -17.671875 \r\nz\r\nM 10.59375 -12.109375 \r\nL 49.421875 -12.109375 \r\nL 49.421875 64.890625 \r\nL 10.59375 64.890625 \r\nz\r\n\" id=\"DejaVuSans-51064\"/>\r\n      <path d=\"M 4.984375 -17.671875 \r\nL 4.984375 70.515625 \r\nL 54.984375 70.515625 \r\nL 54.984375 -17.671875 \r\nz\r\nM 10.59375 -12.109375 \r\nL 49.421875 -12.109375 \r\nL 49.421875 64.890625 \r\nL 10.59375 64.890625 \r\nz\r\n\" id=\"DejaVuSans-44396\"/>\r\n      <path d=\"M 4.984375 -17.671875 \r\nL 4.984375 70.515625 \r\nL 54.984375 70.515625 \r\nL 54.984375 -17.671875 \r\nz\r\nM 10.59375 -12.109375 \r\nL 49.421875 -12.109375 \r\nL 49.421875 64.890625 \r\nL 10.59375 64.890625 \r\nz\r\n\" id=\"DejaVuSans-49688\"/>\r\n     </defs>\r\n     <g transform=\"translate(14.798438 167.186719)rotate(-90)scale(0.1 -0.1)\">\r\n      <use xlink:href=\"#DejaVuSans-51064\"/>\r\n      <use x=\"60.009766\" xlink:href=\"#DejaVuSans-44396\"/>\r\n      <use x=\"120.019531\" xlink:href=\"#DejaVuSans-49688\"/>\r\n     </g>\r\n    </g>\r\n    <g id=\"text_14\">\r\n     <!-- 1e7 -->\r\n     <defs>\r\n      <path d=\"M 56.203125 29.59375 \r\nL 56.203125 25.203125 \r\nL 14.890625 25.203125 \r\nQ 15.484375 15.921875 20.484375 11.0625 \r\nQ 25.484375 6.203125 34.421875 6.203125 \r\nQ 39.59375 6.203125 44.453125 7.46875 \r\nQ 49.3125 8.734375 54.109375 11.28125 \r\nL 54.109375 2.78125 \r\nQ 49.265625 0.734375 44.1875 -0.34375 \r\nQ 39.109375 -1.421875 33.890625 -1.421875 \r\nQ 20.796875 -1.421875 13.15625 6.1875 \r\nQ 5.515625 13.8125 5.515625 26.8125 \r\nQ 5.515625 40.234375 12.765625 48.109375 \r\nQ 20.015625 56 32.328125 56 \r\nQ 43.359375 56 49.78125 48.890625 \r\nQ 56.203125 41.796875 56.203125 29.59375 \r\nz\r\nM 47.21875 32.234375 \r\nQ 47.125 39.59375 43.09375 43.984375 \r\nQ 39.0625 48.390625 32.421875 48.390625 \r\nQ 24.90625 48.390625 20.390625 44.140625 \r\nQ 15.875 39.890625 15.1875 32.171875 \r\nz\r\n\" id=\"DejaVuSans-101\"/>\r\n      <path d=\"M 8.203125 72.90625 \r\nL 55.078125 72.90625 \r\nL 55.078125 68.703125 \r\nL 28.609375 0 \r\nL 18.3125 0 \r\nL 43.21875 64.59375 \r\nL 8.203125 64.59375 \r\nz\r\n\" id=\"DejaVuSans-55\"/>\r\n     </defs>\r\n     <g transform=\"translate(34.240625 19.284375)scale(0.1 -0.1)\">\r\n      <use xlink:href=\"#DejaVuSans-49\"/>\r\n      <use x=\"63.623047\" xlink:href=\"#DejaVuSans-101\"/>\r\n      <use x=\"125.146484\" xlink:href=\"#DejaVuSans-55\"/>\r\n     </g>\r\n    </g>\r\n   </g>\r\n   <g id=\"line2d_12\">\r\n    <path clip-path=\"url(#p9b40def719)\" d=\"M 59.604261 39.955211 \r\nL 115.967898 38.93545 \r\nL 172.331534 38.014797 \r\nL 228.69517 37.126253 \r\nL 285.058807 36.166375 \r\nL 341.422443 35.371117 \r\nL 397.78608 34.978782 \r\nL 454.149716 34.752349 \r\nL 510.513352 34.63892 \r\nL 566.876989 34.738224 \r\n\" style=\"fill:none;stroke:#f77189;stroke-linecap:square;stroke-width:1.5;\"/>\r\n   </g>\r\n   <g id=\"line2d_13\">\r\n    <path clip-path=\"url(#p9b40def719)\" d=\"M 59.604261 232.884906 \r\nL 115.967898 233.143964 \r\nL 172.331534 233.390212 \r\nL 228.69517 233.582795 \r\nL 285.058807 233.969049 \r\nL 341.422443 234.405403 \r\nL 397.78608 234.754191 \r\nL 454.149716 235.191678 \r\nL 510.513352 235.365696 \r\nL 566.876989 235.654686 \r\n\" style=\"fill:none;stroke:#f87644;stroke-linecap:square;stroke-width:1.5;\"/>\r\n   </g>\r\n   <g id=\"line2d_14\">\r\n    <path clip-path=\"url(#p9b40def719)\" d=\"M 59.604261 264.807688 \r\nL 115.967898 264.867157 \r\nL 172.331534 264.918858 \r\nL 228.69517 264.958097 \r\nL 285.058807 264.984898 \r\nL 341.422443 265.057563 \r\nL 397.78608 265.190406 \r\nL 454.149716 265.329559 \r\nL 510.513352 265.461144 \r\nL 566.876989 265.565485 \r\n\" style=\"fill:none;stroke:#d58c32;stroke-linecap:square;stroke-width:1.5;\"/>\r\n   </g>\r\n   <g id=\"line2d_15\">\r\n    <path clip-path=\"url(#p9b40def719)\" d=\"M 59.604261 269.78141 \r\nL 115.967898 269.789164 \r\nL 172.331534 269.808493 \r\nL 228.69517 269.848161 \r\nL 285.058807 269.874061 \r\nL 341.422443 269.889654 \r\nL 397.78608 269.934097 \r\nL 454.149716 269.998251 \r\nL 510.513352 270.111374 \r\nL 566.876989 270.205183 \r\n\" style=\"fill:none;stroke:#bb9832;stroke-linecap:square;stroke-width:1.5;\"/>\r\n   </g>\r\n   <g id=\"line2d_16\">\r\n    <path clip-path=\"url(#p9b40def719)\" d=\"M 59.604261 268.380337 \r\nL 115.967898 268.176816 \r\nL 172.331534 268.006206 \r\nL 228.69517 267.897429 \r\nL 285.058807 267.786836 \r\nL 341.422443 267.704612 \r\nL 397.78608 267.67853 \r\nL 454.149716 267.649461 \r\nL 510.513352 267.6381 \r\nL 566.876989 267.70576 \r\n\" style=\"fill:none;stroke:#a4a031;stroke-linecap:square;stroke-width:1.5;\"/>\r\n   </g>\r\n   <g id=\"line2d_17\">\r\n    <path clip-path=\"url(#p9b40def719)\" d=\"M 59.604261 274.755681 \r\nL 115.967898 274.728269 \r\nL 172.331534 274.710666 \r\nL 228.69517 274.696493 \r\nL 285.058807 274.714054 \r\nL 341.422443 274.728279 \r\nL 397.78608 274.754222 \r\nL 454.149716 274.775353 \r\nL 510.513352 274.78902 \r\nL 566.876989 274.819548 \r\n\" style=\"fill:none;stroke:#87a831;stroke-linecap:square;stroke-width:1.5;\"/>\r\n   </g>\r\n   <g id=\"line2d_18\">\r\n    <path clip-path=\"url(#p9b40def719)\" d=\"M 59.604261 274.507212 \r\nL 115.967898 274.464418 \r\nL 172.331534 274.425207 \r\nL 228.69517 274.429982 \r\nL 285.058807 274.492096 \r\nL 341.422443 274.513088 \r\nL 397.78608 274.570955 \r\nL 454.149716 274.629528 \r\nL 510.513352 274.701325 \r\nL 566.876989 274.753689 \r\n\" style=\"fill:none;stroke:#50b131;stroke-linecap:square;stroke-width:1.5;\"/>\r\n   </g>\r\n   <g id=\"line2d_19\">\r\n    <path clip-path=\"url(#p9b40def719)\" d=\"M 59.604261 276.318624 \r\nL 115.967898 276.262572 \r\nL 172.331534 276.218615 \r\nL 228.69517 276.171451 \r\nL 285.058807 276.137344 \r\nL 341.422443 276.143206 \r\nL 397.78608 276.177384 \r\nL 454.149716 276.222699 \r\nL 510.513352 276.258936 \r\nL 566.876989 276.316132 \r\n\" style=\"fill:none;stroke:#33b172;stroke-linecap:square;stroke-width:1.5;\"/>\r\n   </g>\r\n   <g id=\"line2d_20\">\r\n    <path clip-path=\"url(#p9b40def719)\" d=\"M 59.604261 281.72983 \r\nL 115.967898 281.19077 \r\nL 172.331534 281.147708 \r\nL 228.69517 280.985815 \r\nL 285.058807 280.72486 \r\nL 341.422443 280.571582 \r\nL 397.78608 280.395011 \r\nL 454.149716 280.23286 \r\nL 510.513352 280.106817 \r\nL 566.876989 280.034114 \r\n\" style=\"fill:none;stroke:#34ae91;stroke-linecap:square;stroke-width:1.5;\"/>\r\n   </g>\r\n   <g id=\"line2d_21\">\r\n    <path clip-path=\"url(#p9b40def719)\" d=\"M 59.604261 224.841987 \r\nL 115.967898 224.099121 \r\nL 172.331534 223.425607 \r\nL 228.69517 222.838496 \r\nL 285.058807 222.053255 \r\nL 341.422443 221.127917 \r\nL 397.78608 220.379184 \r\nL 454.149716 219.410557 \r\nL 510.513352 218.6361 \r\nL 566.876989 217.743292 \r\n\" style=\"fill:none;stroke:#36ada4;stroke-linecap:square;stroke-width:1.5;\"/>\r\n   </g>\r\n   <g id=\"line2d_22\">\r\n    <path clip-path=\"url(#p9b40def719)\" d=\"M 59.604261 274.407875 \r\nL 115.967898 274.397477 \r\nL 172.331534 274.380163 \r\nL 228.69517 274.369779 \r\nL 285.058807 274.345642 \r\nL 341.422443 274.339452 \r\nL 397.78608 274.342616 \r\nL 454.149716 274.376403 \r\nL 510.513352 274.38379 \r\nL 566.876989 274.377414 \r\n\" style=\"fill:none;stroke:#37abb5;stroke-linecap:square;stroke-width:1.5;\"/>\r\n   </g>\r\n   <g id=\"line2d_23\">\r\n    <path clip-path=\"url(#p9b40def719)\" d=\"M 59.604261 274.281803 \r\nL 115.967898 274.268817 \r\nL 172.331534 274.234963 \r\nL 228.69517 274.205412 \r\nL 285.058807 274.181494 \r\nL 341.422443 274.144928 \r\nL 397.78608 274.131552 \r\nL 454.149716 274.108582 \r\nL 510.513352 274.104984 \r\nL 566.876989 274.101029 \r\n\" style=\"fill:none;stroke:#38a8ca;stroke-linecap:square;stroke-width:1.5;\"/>\r\n   </g>\r\n   <g id=\"line2d_24\">\r\n    <path clip-path=\"url(#p9b40def719)\" d=\"M 59.604261 271.716145 \r\nL 115.967898 272.061677 \r\nL 172.331534 271.971828 \r\nL 228.69517 271.902052 \r\nL 285.058807 271.828777 \r\nL 341.422443 271.737861 \r\nL 397.78608 271.642346 \r\nL 454.149716 271.597016 \r\nL 510.513352 271.609278 \r\nL 566.876989 271.62205 \r\n\" style=\"fill:none;stroke:#3ba3ec;stroke-linecap:square;stroke-width:1.5;\"/>\r\n   </g>\r\n   <g id=\"line2d_25\">\r\n    <path clip-path=\"url(#p9b40def719)\" d=\"M 59.604261 272.79912 \r\nL 115.967898 272.802409 \r\nL 172.331534 272.804201 \r\nL 228.69517 272.810896 \r\nL 285.058807 272.819707 \r\nL 341.422443 272.843154 \r\nL 397.78608 272.891686 \r\nL 454.149716 272.976393 \r\nL 510.513352 273.061767 \r\nL 566.876989 273.132358 \r\n\" style=\"fill:none;stroke:#8a94f4;stroke-linecap:square;stroke-width:1.5;\"/>\r\n   </g>\r\n   <g id=\"line2d_26\">\r\n    <path clip-path=\"url(#p9b40def719)\" d=\"M 59.604261 272.607032 \r\nL 115.967898 272.62953 \r\nL 172.331534 272.641187 \r\nL 228.69517 272.64782 \r\nL 285.058807 272.632495 \r\nL 341.422443 272.656713 \r\nL 397.78608 272.692406 \r\nL 454.149716 272.756522 \r\nL 510.513352 272.824311 \r\nL 566.876989 272.906259 \r\n\" style=\"fill:none;stroke:#bb83f4;stroke-linecap:square;stroke-width:1.5;\"/>\r\n   </g>\r\n   <g id=\"line2d_27\">\r\n    <path clip-path=\"url(#p9b40def719)\" d=\"M 59.604261 268.866795 \r\nL 115.967898 268.870808 \r\nL 172.331534 268.865628 \r\nL 228.69517 268.859175 \r\nL 285.058807 268.849492 \r\nL 341.422443 268.861062 \r\nL 397.78608 268.902484 \r\nL 454.149716 268.973371 \r\nL 510.513352 269.025768 \r\nL 566.876989 269.151644 \r\n\" style=\"fill:none;stroke:#e866f4;stroke-linecap:square;stroke-width:1.5;\"/>\r\n   </g>\r\n   <g id=\"line2d_28\">\r\n    <path clip-path=\"url(#p9b40def719)\" d=\"M 59.604261 265.961885 \r\nL 115.967898 265.911613 \r\nL 172.331534 265.842485 \r\nL 228.69517 265.764154 \r\nL 285.058807 265.695316 \r\nL 341.422443 265.651621 \r\nL 397.78608 265.620488 \r\nL 454.149716 265.651064 \r\nL 510.513352 265.705558 \r\nL 566.876989 265.812005 \r\n\" style=\"fill:none;stroke:#f564d4;stroke-linecap:square;stroke-width:1.5;\"/>\r\n   </g>\r\n   <g id=\"line2d_29\">\r\n    <path clip-path=\"url(#p9b40def719)\" d=\"M 59.604261 278.984154 \r\nL 115.967898 278.948141 \r\nL 172.331534 278.900043 \r\nL 228.69517 278.835518 \r\nL 285.058807 278.75427 \r\nL 341.422443 278.672294 \r\nL 397.78608 278.598495 \r\nL 454.149716 278.550326 \r\nL 510.513352 278.532226 \r\nL 566.876989 278.514851 \r\n\" style=\"fill:none;stroke:#f66bb0;stroke-linecap:square;stroke-width:1.5;\"/>\r\n   </g>\r\n   <g id=\"line2d_30\"/>\r\n   <g id=\"line2d_31\"/>\r\n   <g id=\"line2d_32\"/>\r\n   <g id=\"line2d_33\"/>\r\n   <g id=\"line2d_34\"/>\r\n   <g id=\"line2d_35\"/>\r\n   <g id=\"line2d_36\"/>\r\n   <g id=\"line2d_37\"/>\r\n   <g id=\"line2d_38\"/>\r\n   <g id=\"line2d_39\"/>\r\n   <g id=\"line2d_40\"/>\r\n   <g id=\"line2d_41\"/>\r\n   <g id=\"line2d_42\"/>\r\n   <g id=\"line2d_43\"/>\r\n   <g id=\"line2d_44\"/>\r\n   <g id=\"line2d_45\"/>\r\n   <g id=\"line2d_46\"/>\r\n   <g id=\"line2d_47\"/>\r\n   <g id=\"patch_3\">\r\n    <path d=\"M 34.240625 294.084375 \r\nL 34.240625 22.284375 \r\n\" style=\"fill:none;stroke:#000000;stroke-linecap:square;stroke-linejoin:miter;stroke-width:0.8;\"/>\r\n   </g>\r\n   <g id=\"patch_4\">\r\n    <path d=\"M 592.240625 294.084375 \r\nL 592.240625 22.284375 \r\n\" style=\"fill:none;stroke:#000000;stroke-linecap:square;stroke-linejoin:miter;stroke-width:0.8;\"/>\r\n   </g>\r\n   <g id=\"patch_5\">\r\n    <path d=\"M 34.240625 294.084375 \r\nL 592.240625 294.084375 \r\n\" style=\"fill:none;stroke:#000000;stroke-linecap:square;stroke-linejoin:miter;stroke-width:0.8;\"/>\r\n   </g>\r\n   <g id=\"patch_6\">\r\n    <path d=\"M 34.240625 22.284375 \r\nL 592.240625 22.284375 \r\n\" style=\"fill:none;stroke:#000000;stroke-linecap:square;stroke-linejoin:miter;stroke-width:0.8;\"/>\r\n   </g>\r\n   <g id=\"legend_1\">\r\n    <g id=\"patch_7\">\r\n     <path d=\"M 291.239062 289.084375 \r\nL 335.242188 289.084375 \r\nQ 337.242188 289.084375 337.242188 287.084375 \r\nL 337.242188 9.2 \r\nQ 337.242188 7.2 335.242188 7.2 \r\nL 291.239062 7.2 \r\nQ 289.239062 7.2 289.239062 9.2 \r\nL 289.239062 287.084375 \r\nQ 289.239062 289.084375 291.239062 289.084375 \r\nz\r\n\" style=\"fill:#ffffff;opacity:0.8;stroke:#cccccc;stroke-linejoin:miter;\"/>\r\n    </g>\r\n    <g id=\"text_15\">\r\n     <!-- 행정구역 -->\r\n     <defs>\r\n      <path d=\"M 4.984375 -17.671875 \r\nL 4.984375 70.515625 \r\nL 54.984375 70.515625 \r\nL 54.984375 -17.671875 \r\nz\r\nM 10.59375 -12.109375 \r\nL 49.421875 -12.109375 \r\nL 49.421875 64.890625 \r\nL 10.59375 64.890625 \r\nz\r\n\" id=\"DejaVuSans-54665\"/>\r\n      <path d=\"M 4.984375 -17.671875 \r\nL 4.984375 70.515625 \r\nL 54.984375 70.515625 \r\nL 54.984375 -17.671875 \r\nz\r\nM 10.59375 -12.109375 \r\nL 49.421875 -12.109375 \r\nL 49.421875 64.890625 \r\nL 10.59375 64.890625 \r\nz\r\n\" id=\"DejaVuSans-51221\"/>\r\n      <path d=\"M 4.984375 -17.671875 \r\nL 4.984375 70.515625 \r\nL 54.984375 70.515625 \r\nL 54.984375 -17.671875 \r\nz\r\nM 10.59375 -12.109375 \r\nL 49.421875 -12.109375 \r\nL 49.421875 64.890625 \r\nL 10.59375 64.890625 \r\nz\r\n\" id=\"DejaVuSans-50669\"/>\r\n     </defs>\r\n     <g transform=\"translate(301.2375 18.798437)scale(0.1 -0.1)\">\r\n      <use xlink:href=\"#DejaVuSans-54665\"/>\r\n      <use x=\"60.009766\" xlink:href=\"#DejaVuSans-51221\"/>\r\n      <use x=\"120.019531\" xlink:href=\"#DejaVuSans-44396\"/>\r\n      <use x=\"180.029297\" xlink:href=\"#DejaVuSans-50669\"/>\r\n     </g>\r\n    </g>\r\n    <g id=\"line2d_48\">\r\n     <path d=\"M 293.239062 29.976562 \r\nL 313.239062 29.976562 \r\n\" style=\"fill:none;stroke:#f77189;stroke-linecap:square;stroke-width:1.5;\"/>\r\n    </g>\r\n    <g id=\"line2d_49\"/>\r\n    <g id=\"text_16\">\r\n     <!-- 전국 -->\r\n     <defs>\r\n      <path d=\"M 4.984375 -17.671875 \r\nL 4.984375 70.515625 \r\nL 54.984375 70.515625 \r\nL 54.984375 -17.671875 \r\nz\r\nM 10.59375 -12.109375 \r\nL 49.421875 -12.109375 \r\nL 49.421875 64.890625 \r\nL 10.59375 64.890625 \r\nz\r\n\" id=\"DejaVuSans-51204\"/>\r\n      <path d=\"M 4.984375 -17.671875 \r\nL 4.984375 70.515625 \r\nL 54.984375 70.515625 \r\nL 54.984375 -17.671875 \r\nz\r\nM 10.59375 -12.109375 \r\nL 49.421875 -12.109375 \r\nL 49.421875 64.890625 \r\nL 10.59375 64.890625 \r\nz\r\n\" id=\"DejaVuSans-44397\"/>\r\n     </defs>\r\n     <g transform=\"translate(321.239062 33.476562)scale(0.1 -0.1)\">\r\n      <use xlink:href=\"#DejaVuSans-51204\"/>\r\n      <use x=\"60.009766\" xlink:href=\"#DejaVuSans-44397\"/>\r\n     </g>\r\n    </g>\r\n    <g id=\"line2d_50\">\r\n     <path d=\"M 293.239062 44.654687 \r\nL 313.239062 44.654687 \r\n\" style=\"fill:none;stroke:#f87644;stroke-linecap:square;stroke-width:1.5;\"/>\r\n    </g>\r\n    <g id=\"line2d_51\"/>\r\n    <g id=\"text_17\">\r\n     <!-- 서울 -->\r\n     <defs>\r\n      <path d=\"M 4.984375 -17.671875 \r\nL 4.984375 70.515625 \r\nL 54.984375 70.515625 \r\nL 54.984375 -17.671875 \r\nz\r\nM 10.59375 -12.109375 \r\nL 49.421875 -12.109375 \r\nL 49.421875 64.890625 \r\nL 10.59375 64.890625 \r\nz\r\n\" id=\"DejaVuSans-49436\"/>\r\n      <path d=\"M 4.984375 -17.671875 \r\nL 4.984375 70.515625 \r\nL 54.984375 70.515625 \r\nL 54.984375 -17.671875 \r\nz\r\nM 10.59375 -12.109375 \r\nL 49.421875 -12.109375 \r\nL 49.421875 64.890625 \r\nL 10.59375 64.890625 \r\nz\r\n\" id=\"DejaVuSans-50872\"/>\r\n     </defs>\r\n     <g transform=\"translate(321.239062 48.154687)scale(0.1 -0.1)\">\r\n      <use xlink:href=\"#DejaVuSans-49436\"/>\r\n      <use x=\"60.009766\" xlink:href=\"#DejaVuSans-50872\"/>\r\n     </g>\r\n    </g>\r\n    <g id=\"line2d_52\">\r\n     <path d=\"M 293.239062 59.332812 \r\nL 313.239062 59.332812 \r\n\" style=\"fill:none;stroke:#d58c32;stroke-linecap:square;stroke-width:1.5;\"/>\r\n    </g>\r\n    <g id=\"line2d_53\"/>\r\n    <g id=\"text_18\">\r\n     <!-- 부산 -->\r\n     <defs>\r\n      <path d=\"M 4.984375 -17.671875 \r\nL 4.984375 70.515625 \r\nL 54.984375 70.515625 \r\nL 54.984375 -17.671875 \r\nz\r\nM 10.59375 -12.109375 \r\nL 49.421875 -12.109375 \r\nL 49.421875 64.890625 \r\nL 10.59375 64.890625 \r\nz\r\n\" id=\"DejaVuSans-48512\"/>\r\n      <path d=\"M 4.984375 -17.671875 \r\nL 4.984375 70.515625 \r\nL 54.984375 70.515625 \r\nL 54.984375 -17.671875 \r\nz\r\nM 10.59375 -12.109375 \r\nL 49.421875 -12.109375 \r\nL 49.421875 64.890625 \r\nL 10.59375 64.890625 \r\nz\r\n\" id=\"DejaVuSans-49328\"/>\r\n     </defs>\r\n     <g transform=\"translate(321.239062 62.832812)scale(0.1 -0.1)\">\r\n      <use xlink:href=\"#DejaVuSans-48512\"/>\r\n      <use x=\"60.009766\" xlink:href=\"#DejaVuSans-49328\"/>\r\n     </g>\r\n    </g>\r\n    <g id=\"line2d_54\">\r\n     <path d=\"M 293.239062 74.010937 \r\nL 313.239062 74.010937 \r\n\" style=\"fill:none;stroke:#bb9832;stroke-linecap:square;stroke-width:1.5;\"/>\r\n    </g>\r\n    <g id=\"line2d_55\"/>\r\n    <g id=\"text_19\">\r\n     <!-- 대구 -->\r\n     <defs>\r\n      <path d=\"M 4.984375 -17.671875 \r\nL 4.984375 70.515625 \r\nL 54.984375 70.515625 \r\nL 54.984375 -17.671875 \r\nz\r\nM 10.59375 -12.109375 \r\nL 49.421875 -12.109375 \r\nL 49.421875 64.890625 \r\nL 10.59375 64.890625 \r\nz\r\n\" id=\"DejaVuSans-45824\"/>\r\n     </defs>\r\n     <g transform=\"translate(321.239062 77.510937)scale(0.1 -0.1)\">\r\n      <use xlink:href=\"#DejaVuSans-45824\"/>\r\n      <use x=\"60.009766\" xlink:href=\"#DejaVuSans-44396\"/>\r\n     </g>\r\n    </g>\r\n    <g id=\"line2d_56\">\r\n     <path d=\"M 293.239062 88.689062 \r\nL 313.239062 88.689062 \r\n\" style=\"fill:none;stroke:#a4a031;stroke-linecap:square;stroke-width:1.5;\"/>\r\n    </g>\r\n    <g id=\"line2d_57\"/>\r\n    <g id=\"text_20\">\r\n     <!-- 인청 -->\r\n     <defs>\r\n      <path d=\"M 4.984375 -17.671875 \r\nL 4.984375 70.515625 \r\nL 54.984375 70.515625 \r\nL 54.984375 -17.671875 \r\nz\r\nM 10.59375 -12.109375 \r\nL 49.421875 -12.109375 \r\nL 49.421875 64.890625 \r\nL 10.59375 64.890625 \r\nz\r\n\" id=\"DejaVuSans-52397\"/>\r\n     </defs>\r\n     <g transform=\"translate(321.239062 92.189062)scale(0.1 -0.1)\">\r\n      <use xlink:href=\"#DejaVuSans-51064\"/>\r\n      <use x=\"60.009766\" xlink:href=\"#DejaVuSans-52397\"/>\r\n     </g>\r\n    </g>\r\n    <g id=\"line2d_58\">\r\n     <path d=\"M 293.239062 103.367187 \r\nL 313.239062 103.367187 \r\n\" style=\"fill:none;stroke:#87a831;stroke-linecap:square;stroke-width:1.5;\"/>\r\n    </g>\r\n    <g id=\"line2d_59\"/>\r\n    <g id=\"text_21\">\r\n     <!-- 광주 -->\r\n     <defs>\r\n      <path d=\"M 4.984375 -17.671875 \r\nL 4.984375 70.515625 \r\nL 54.984375 70.515625 \r\nL 54.984375 -17.671875 \r\nz\r\nM 10.59375 -12.109375 \r\nL 49.421875 -12.109375 \r\nL 49.421875 64.890625 \r\nL 10.59375 64.890625 \r\nz\r\n\" id=\"DejaVuSans-44305\"/>\r\n      <path d=\"M 4.984375 -17.671875 \r\nL 4.984375 70.515625 \r\nL 54.984375 70.515625 \r\nL 54.984375 -17.671875 \r\nz\r\nM 10.59375 -12.109375 \r\nL 49.421875 -12.109375 \r\nL 49.421875 64.890625 \r\nL 10.59375 64.890625 \r\nz\r\n\" id=\"DejaVuSans-51452\"/>\r\n     </defs>\r\n     <g transform=\"translate(321.239062 106.867187)scale(0.1 -0.1)\">\r\n      <use xlink:href=\"#DejaVuSans-44305\"/>\r\n      <use x=\"60.009766\" xlink:href=\"#DejaVuSans-51452\"/>\r\n     </g>\r\n    </g>\r\n    <g id=\"line2d_60\">\r\n     <path d=\"M 293.239062 118.045312 \r\nL 313.239062 118.045312 \r\n\" style=\"fill:none;stroke:#50b131;stroke-linecap:square;stroke-width:1.5;\"/>\r\n    </g>\r\n    <g id=\"line2d_61\"/>\r\n    <g id=\"text_22\">\r\n     <!-- 대전 -->\r\n     <g transform=\"translate(321.239062 121.545312)scale(0.1 -0.1)\">\r\n      <use xlink:href=\"#DejaVuSans-45824\"/>\r\n      <use x=\"60.009766\" xlink:href=\"#DejaVuSans-51204\"/>\r\n     </g>\r\n    </g>\r\n    <g id=\"line2d_62\">\r\n     <path d=\"M 293.239062 132.723437 \r\nL 313.239062 132.723437 \r\n\" style=\"fill:none;stroke:#33b172;stroke-linecap:square;stroke-width:1.5;\"/>\r\n    </g>\r\n    <g id=\"line2d_63\"/>\r\n    <g id=\"text_23\">\r\n     <!-- 울산 -->\r\n     <g transform=\"translate(321.239062 136.223437)scale(0.1 -0.1)\">\r\n      <use xlink:href=\"#DejaVuSans-50872\"/>\r\n      <use x=\"60.009766\" xlink:href=\"#DejaVuSans-49328\"/>\r\n     </g>\r\n    </g>\r\n    <g id=\"line2d_64\">\r\n     <path d=\"M 293.239062 147.401562 \r\nL 313.239062 147.401562 \r\n\" style=\"fill:none;stroke:#34ae91;stroke-linecap:square;stroke-width:1.5;\"/>\r\n    </g>\r\n    <g id=\"line2d_65\"/>\r\n    <g id=\"text_24\">\r\n     <!-- 세종 -->\r\n     <defs>\r\n      <path d=\"M 4.984375 -17.671875 \r\nL 4.984375 70.515625 \r\nL 54.984375 70.515625 \r\nL 54.984375 -17.671875 \r\nz\r\nM 10.59375 -12.109375 \r\nL 49.421875 -12.109375 \r\nL 49.421875 64.890625 \r\nL 10.59375 64.890625 \r\nz\r\n\" id=\"DejaVuSans-49464\"/>\r\n      <path d=\"M 4.984375 -17.671875 \r\nL 4.984375 70.515625 \r\nL 54.984375 70.515625 \r\nL 54.984375 -17.671875 \r\nz\r\nM 10.59375 -12.109375 \r\nL 49.421875 -12.109375 \r\nL 49.421875 64.890625 \r\nL 10.59375 64.890625 \r\nz\r\n\" id=\"DejaVuSans-51333\"/>\r\n     </defs>\r\n     <g transform=\"translate(321.239062 150.901562)scale(0.1 -0.1)\">\r\n      <use xlink:href=\"#DejaVuSans-49464\"/>\r\n      <use x=\"60.009766\" xlink:href=\"#DejaVuSans-51333\"/>\r\n     </g>\r\n    </g>\r\n    <g id=\"line2d_66\">\r\n     <path d=\"M 293.239062 162.079687 \r\nL 313.239062 162.079687 \r\n\" style=\"fill:none;stroke:#36ada4;stroke-linecap:square;stroke-width:1.5;\"/>\r\n    </g>\r\n    <g id=\"line2d_67\"/>\r\n    <g id=\"text_25\">\r\n     <!-- 경기 -->\r\n     <defs>\r\n      <path d=\"M 4.984375 -17.671875 \r\nL 4.984375 70.515625 \r\nL 54.984375 70.515625 \r\nL 54.984375 -17.671875 \r\nz\r\nM 10.59375 -12.109375 \r\nL 49.421875 -12.109375 \r\nL 49.421875 64.890625 \r\nL 10.59375 64.890625 \r\nz\r\n\" id=\"DejaVuSans-44221\"/>\r\n      <path d=\"M 4.984375 -17.671875 \r\nL 4.984375 70.515625 \r\nL 54.984375 70.515625 \r\nL 54.984375 -17.671875 \r\nz\r\nM 10.59375 -12.109375 \r\nL 49.421875 -12.109375 \r\nL 49.421875 64.890625 \r\nL 10.59375 64.890625 \r\nz\r\n\" id=\"DejaVuSans-44592\"/>\r\n     </defs>\r\n     <g transform=\"translate(321.239062 165.579687)scale(0.1 -0.1)\">\r\n      <use xlink:href=\"#DejaVuSans-44221\"/>\r\n      <use x=\"60.009766\" xlink:href=\"#DejaVuSans-44592\"/>\r\n     </g>\r\n    </g>\r\n    <g id=\"line2d_68\">\r\n     <path d=\"M 293.239062 176.757812 \r\nL 313.239062 176.757812 \r\n\" style=\"fill:none;stroke:#37abb5;stroke-linecap:square;stroke-width:1.5;\"/>\r\n    </g>\r\n    <g id=\"line2d_69\"/>\r\n    <g id=\"text_26\">\r\n     <!-- 강원 -->\r\n     <defs>\r\n      <path d=\"M 4.984375 -17.671875 \r\nL 4.984375 70.515625 \r\nL 54.984375 70.515625 \r\nL 54.984375 -17.671875 \r\nz\r\nM 10.59375 -12.109375 \r\nL 49.421875 -12.109375 \r\nL 49.421875 64.890625 \r\nL 10.59375 64.890625 \r\nz\r\n\" id=\"DejaVuSans-44053\"/>\r\n      <path d=\"M 4.984375 -17.671875 \r\nL 4.984375 70.515625 \r\nL 54.984375 70.515625 \r\nL 54.984375 -17.671875 \r\nz\r\nM 10.59375 -12.109375 \r\nL 49.421875 -12.109375 \r\nL 49.421875 64.890625 \r\nL 10.59375 64.890625 \r\nz\r\n\" id=\"DejaVuSans-50896\"/>\r\n     </defs>\r\n     <g transform=\"translate(321.239062 180.257812)scale(0.1 -0.1)\">\r\n      <use xlink:href=\"#DejaVuSans-44053\"/>\r\n      <use x=\"60.009766\" xlink:href=\"#DejaVuSans-50896\"/>\r\n     </g>\r\n    </g>\r\n    <g id=\"line2d_70\">\r\n     <path d=\"M 293.239062 191.435937 \r\nL 313.239062 191.435937 \r\n\" style=\"fill:none;stroke:#38a8ca;stroke-linecap:square;stroke-width:1.5;\"/>\r\n    </g>\r\n    <g id=\"line2d_71\"/>\r\n    <g id=\"text_27\">\r\n     <!-- 충북 -->\r\n     <defs>\r\n      <path d=\"M 4.984375 -17.671875 \r\nL 4.984375 70.515625 \r\nL 54.984375 70.515625 \r\nL 54.984375 -17.671875 \r\nz\r\nM 10.59375 -12.109375 \r\nL 49.421875 -12.109375 \r\nL 49.421875 64.890625 \r\nL 10.59375 64.890625 \r\nz\r\n\" id=\"DejaVuSans-52649\"/>\r\n      <path d=\"M 4.984375 -17.671875 \r\nL 4.984375 70.515625 \r\nL 54.984375 70.515625 \r\nL 54.984375 -17.671875 \r\nz\r\nM 10.59375 -12.109375 \r\nL 49.421875 -12.109375 \r\nL 49.421875 64.890625 \r\nL 10.59375 64.890625 \r\nz\r\n\" id=\"DejaVuSans-48513\"/>\r\n     </defs>\r\n     <g transform=\"translate(321.239062 194.935937)scale(0.1 -0.1)\">\r\n      <use xlink:href=\"#DejaVuSans-52649\"/>\r\n      <use x=\"60.009766\" xlink:href=\"#DejaVuSans-48513\"/>\r\n     </g>\r\n    </g>\r\n    <g id=\"line2d_72\">\r\n     <path d=\"M 293.239062 206.114062 \r\nL 313.239062 206.114062 \r\n\" style=\"fill:none;stroke:#3ba3ec;stroke-linecap:square;stroke-width:1.5;\"/>\r\n    </g>\r\n    <g id=\"line2d_73\"/>\r\n    <g id=\"text_28\">\r\n     <!-- 충남 -->\r\n     <defs>\r\n      <path d=\"M 4.984375 -17.671875 \r\nL 4.984375 70.515625 \r\nL 54.984375 70.515625 \r\nL 54.984375 -17.671875 \r\nz\r\nM 10.59375 -12.109375 \r\nL 49.421875 -12.109375 \r\nL 49.421875 64.890625 \r\nL 10.59375 64.890625 \r\nz\r\n\" id=\"DejaVuSans-45224\"/>\r\n     </defs>\r\n     <g transform=\"translate(321.239062 209.614062)scale(0.1 -0.1)\">\r\n      <use xlink:href=\"#DejaVuSans-52649\"/>\r\n      <use x=\"60.009766\" xlink:href=\"#DejaVuSans-45224\"/>\r\n     </g>\r\n    </g>\r\n    <g id=\"line2d_74\">\r\n     <path d=\"M 293.239062 220.792187 \r\nL 313.239062 220.792187 \r\n\" style=\"fill:none;stroke:#8a94f4;stroke-linecap:square;stroke-width:1.5;\"/>\r\n    </g>\r\n    <g id=\"line2d_75\"/>\r\n    <g id=\"text_29\">\r\n     <!-- 전북 -->\r\n     <g transform=\"translate(321.239062 224.292187)scale(0.1 -0.1)\">\r\n      <use xlink:href=\"#DejaVuSans-51204\"/>\r\n      <use x=\"60.009766\" xlink:href=\"#DejaVuSans-48513\"/>\r\n     </g>\r\n    </g>\r\n    <g id=\"line2d_76\">\r\n     <path d=\"M 293.239062 235.470312 \r\nL 313.239062 235.470312 \r\n\" style=\"fill:none;stroke:#bb83f4;stroke-linecap:square;stroke-width:1.5;\"/>\r\n    </g>\r\n    <g id=\"line2d_77\"/>\r\n    <g id=\"text_30\">\r\n     <!-- 전남 -->\r\n     <g transform=\"translate(321.239062 238.970312)scale(0.1 -0.1)\">\r\n      <use xlink:href=\"#DejaVuSans-51204\"/>\r\n      <use x=\"60.009766\" xlink:href=\"#DejaVuSans-45224\"/>\r\n     </g>\r\n    </g>\r\n    <g id=\"line2d_78\">\r\n     <path d=\"M 293.239062 250.148437 \r\nL 313.239062 250.148437 \r\n\" style=\"fill:none;stroke:#e866f4;stroke-linecap:square;stroke-width:1.5;\"/>\r\n    </g>\r\n    <g id=\"line2d_79\"/>\r\n    <g id=\"text_31\">\r\n     <!-- 경북 -->\r\n     <g transform=\"translate(321.239062 253.648437)scale(0.1 -0.1)\">\r\n      <use xlink:href=\"#DejaVuSans-44221\"/>\r\n      <use x=\"60.009766\" xlink:href=\"#DejaVuSans-48513\"/>\r\n     </g>\r\n    </g>\r\n    <g id=\"line2d_80\">\r\n     <path d=\"M 293.239062 264.826562 \r\nL 313.239062 264.826562 \r\n\" style=\"fill:none;stroke:#f564d4;stroke-linecap:square;stroke-width:1.5;\"/>\r\n    </g>\r\n    <g id=\"line2d_81\"/>\r\n    <g id=\"text_32\">\r\n     <!-- 경남 -->\r\n     <g transform=\"translate(321.239062 268.326562)scale(0.1 -0.1)\">\r\n      <use xlink:href=\"#DejaVuSans-44221\"/>\r\n      <use x=\"60.009766\" xlink:href=\"#DejaVuSans-45224\"/>\r\n     </g>\r\n    </g>\r\n    <g id=\"line2d_82\">\r\n     <path d=\"M 293.239062 279.504687 \r\nL 313.239062 279.504687 \r\n\" style=\"fill:none;stroke:#f66bb0;stroke-linecap:square;stroke-width:1.5;\"/>\r\n    </g>\r\n    <g id=\"line2d_83\"/>\r\n    <g id=\"text_33\">\r\n     <!-- 제주 -->\r\n     <defs>\r\n      <path d=\"M 4.984375 -17.671875 \r\nL 4.984375 70.515625 \r\nL 54.984375 70.515625 \r\nL 54.984375 -17.671875 \r\nz\r\nM 10.59375 -12.109375 \r\nL 49.421875 -12.109375 \r\nL 49.421875 64.890625 \r\nL 10.59375 64.890625 \r\nz\r\n\" id=\"DejaVuSans-51228\"/>\r\n     </defs>\r\n     <g transform=\"translate(321.239062 283.004687)scale(0.1 -0.1)\">\r\n      <use xlink:href=\"#DejaVuSans-51228\"/>\r\n      <use x=\"60.009766\" xlink:href=\"#DejaVuSans-51452\"/>\r\n     </g>\r\n    </g>\r\n   </g>\r\n  </g>\r\n </g>\r\n <defs>\r\n  <clipPath id=\"p9b40def719\">\r\n   <rect height=\"271.8\" width=\"558\" x=\"34.240625\" y=\"22.284375\"/>\r\n  </clipPath>\r\n </defs>\r\n</svg>\r\n",
      "image/png": "[encoded data removed]"
     },
     "metadata": {
      "needs_background": "light"
     }
    }
   ],
   "source": [
    "# 2011 ~ 2020 년 인구 증가 추세\n",
    "plt.figure(figsize=(10,5))\n",
    "sns.lineplot(x='년도',y='인구수',hue='행정구역',data=df_all)"
   ]
  },
  {
   "cell_type": "code",
   "execution_count": null,
   "metadata": {},
   "outputs": [],
   "source": []
  }
 ]
}