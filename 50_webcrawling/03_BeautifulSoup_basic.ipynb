{
 "cells": [
  {
   "cell_type": "markdown",
   "metadata": {},
   "source": [
    "# 3. BeautifulSoup 기초\n",
    "* HTML과 XML 문서를 파싱하기 위한 파이썬 패키지\n",
    "* 대표페이지 소개 : https://www.crummy.com/software/BeautifulSoup/bs4/doc/"
   ]
  },
  {
   "cell_type": "code",
   "execution_count": 1,
   "metadata": {},
   "outputs": [],
   "source": [
    "import requests\n",
    "from bs4 import BeautifulSoup"
   ]
  },
  {
   "cell_type": "code",
   "execution_count": 2,
   "metadata": {},
   "outputs": [],
   "source": [
    "html_doc = \"\"\"\n",
    "<html>\n",
    "<head>\n",
    "<title>My story</title>\n",
    "</head>\n",
    "<body>\n",
    "<p class=\"title\">My Story</p>\n",
    "<p class=\"story\">내가 좋아하는 음식\n",
    "<a href=\"http://www.pizzahut.co.kr\" class=\"food\" id=\"link1\">피자</a>\n",
    "<a href=\"http://www.kyochon.com\" class=\"food\" id=\"link2\">치킨</a>\n",
    "<a href=\"http://www.momstouch.co.kr\" class=\"food\" id=\"link3\">버거</a>\n",
    "</p>\n",
    "</body>\n",
    "</html>\n",
    "\"\"\""
   ]
  },
  {
   "cell_type": "code",
   "execution_count": 3,
   "metadata": {},
   "outputs": [
    {
     "data": {
      "text/plain": [
       "\n",
       "<html>\n",
       "<head>\n",
       "<title>My story</title>\n",
       "</head>\n",
       "<body>\n",
       "<p class=\"title\">My Story</p>\n",
       "<p class=\"story\">내가 좋아하는 음식\n",
       "<a class=\"food\" href=\"http://www.pizzahut.co.kr\" id=\"link1\">피자</a>\n",
       "<a class=\"food\" href=\"http://www.kyochon.com\" id=\"link2\">치킨</a>\n",
       "<a class=\"food\" href=\"http://www.momstouch.co.kr\" id=\"link3\">버거</a>\n",
       "</p>\n",
       "</body>\n",
       "</html>"
      ]
     },
     "execution_count": 3,
     "metadata": {},
     "output_type": "execute_result"
    }
   ],
   "source": [
    "soup = BeautifulSoup(html_doc,'html.parser') #Lxml, html5lib (html.parser가 default)\n",
    "soup"
   ]
  },
  {
   "cell_type": "code",
   "execution_count": 4,
   "metadata": {},
   "outputs": [
    {
     "data": {
      "text/plain": [
       "bs4.BeautifulSoup"
      ]
     },
     "execution_count": 4,
     "metadata": {},
     "output_type": "execute_result"
    }
   ],
   "source": [
    "type(soup)"
   ]
  },
  {
   "cell_type": "code",
   "execution_count": 5,
   "metadata": {},
   "outputs": [
    {
     "name": "stdout",
     "output_type": "stream",
     "text": [
      "<html>\n",
      " <head>\n",
      "  <title>\n",
      "   My story\n",
      "  </title>\n",
      " </head>\n",
      " <body>\n",
      "  <p class=\"title\">\n",
      "   My Story\n",
      "  </p>\n",
      "  <p class=\"story\">\n",
      "   내가 좋아하는 음식\n",
      "   <a class=\"food\" href=\"http://www.pizzahut.co.kr\" id=\"link1\">\n",
      "    피자\n",
      "   </a>\n",
      "   <a class=\"food\" href=\"http://www.kyochon.com\" id=\"link2\">\n",
      "    치킨\n",
      "   </a>\n",
      "   <a class=\"food\" href=\"http://www.momstouch.co.kr\" id=\"link3\">\n",
      "    버거\n",
      "   </a>\n",
      "  </p>\n",
      " </body>\n",
      "</html>\n",
      "\n"
     ]
    }
   ],
   "source": [
    "print(soup.prettify()) #soup.prettify()는 썩...ㅎ"
   ]
  },
  {
   "cell_type": "markdown",
   "metadata": {},
   "source": [
    "## find 함수\n",
    "* 조건에 만족하는 첫번째 tag만 검색"
   ]
  },
  {
   "cell_type": "code",
   "execution_count": 6,
   "metadata": {},
   "outputs": [
    {
     "data": {
      "text/plain": [
       "<p class=\"title\">My Story</p>"
      ]
     },
     "execution_count": 6,
     "metadata": {},
     "output_type": "execute_result"
    }
   ],
   "source": [
    "soup.find('p')"
   ]
  },
  {
   "cell_type": "code",
   "execution_count": 7,
   "metadata": {},
   "outputs": [
    {
     "data": {
      "text/plain": [
       "<a class=\"food\" href=\"http://www.pizzahut.co.kr\" id=\"link1\">피자</a>"
      ]
     },
     "execution_count": 7,
     "metadata": {},
     "output_type": "execute_result"
    }
   ],
   "source": [
    "soup.find('a')"
   ]
  },
  {
   "cell_type": "code",
   "execution_count": 8,
   "metadata": {},
   "outputs": [
    {
     "data": {
      "text/plain": [
       "<a class=\"food\" href=\"http://www.kyochon.com\" id=\"link2\">치킨</a>"
      ]
     },
     "execution_count": 8,
     "metadata": {},
     "output_type": "execute_result"
    }
   ],
   "source": [
    "soup.find('a',id='link2')"
   ]
  },
  {
   "cell_type": "code",
   "execution_count": 9,
   "metadata": {},
   "outputs": [
    {
     "data": {
      "text/plain": [
       "<a class=\"food\" href=\"http://www.kyochon.com\" id=\"link2\">치킨</a>"
      ]
     },
     "execution_count": 9,
     "metadata": {},
     "output_type": "execute_result"
    }
   ],
   "source": [
    "soup.find(id='link2')"
   ]
  },
  {
   "cell_type": "code",
   "execution_count": 10,
   "metadata": {},
   "outputs": [
    {
     "data": {
      "text/plain": [
       "<a class=\"food\" href=\"http://www.momstouch.co.kr\" id=\"link3\">버거</a>"
      ]
     },
     "execution_count": 10,
     "metadata": {},
     "output_type": "execute_result"
    }
   ],
   "source": [
    "soup.find('a',class_='food',id='link3') #파이썬에서는 class가 예약어라서 불가능 저런~ #대신 class_ 로 쓰면 됨!! 오호"
   ]
  },
  {
   "cell_type": "code",
   "execution_count": 11,
   "metadata": {},
   "outputs": [
    {
     "data": {
      "text/plain": [
       "<a class=\"food\" href=\"http://www.momstouch.co.kr\" id=\"link3\">버거</a>"
      ]
     },
     "execution_count": 11,
     "metadata": {},
     "output_type": "execute_result"
    }
   ],
   "source": [
    "attrs = {\n",
    "    'class' : 'food',\n",
    "    'id' : 'link3'\n",
    "}\n",
    "soup.find('a',attrs=attrs)"
   ]
  },
  {
   "cell_type": "markdown",
   "metadata": {},
   "source": [
    "## find_all 함수\n",
    "* 조건에 맞는 모든 tag를 리스트로 반환"
   ]
  },
  {
   "cell_type": "code",
   "execution_count": 12,
   "metadata": {},
   "outputs": [
    {
     "data": {
      "text/plain": [
       "[<p class=\"title\">My Story</p>,\n",
       " <p class=\"story\">내가 좋아하는 음식\n",
       " <a class=\"food\" href=\"http://www.pizzahut.co.kr\" id=\"link1\">피자</a>\n",
       " <a class=\"food\" href=\"http://www.kyochon.com\" id=\"link2\">치킨</a>\n",
       " <a class=\"food\" href=\"http://www.momstouch.co.kr\" id=\"link3\">버거</a>\n",
       " </p>]"
      ]
     },
     "execution_count": 12,
     "metadata": {},
     "output_type": "execute_result"
    }
   ],
   "source": [
    "soup.find_all('p')"
   ]
  },
  {
   "cell_type": "code",
   "execution_count": 13,
   "metadata": {},
   "outputs": [
    {
     "data": {
      "text/plain": [
       "[<a class=\"food\" href=\"http://www.pizzahut.co.kr\" id=\"link1\">피자</a>,\n",
       " <a class=\"food\" href=\"http://www.kyochon.com\" id=\"link2\">치킨</a>,\n",
       " <a class=\"food\" href=\"http://www.momstouch.co.kr\" id=\"link3\">버거</a>]"
      ]
     },
     "execution_count": 13,
     "metadata": {},
     "output_type": "execute_result"
    }
   ],
   "source": [
    "soup.find_all('a')"
   ]
  },
  {
   "cell_type": "code",
   "execution_count": 14,
   "metadata": {},
   "outputs": [
    {
     "name": "stdout",
     "output_type": "stream",
     "text": [
      "<a class=\"food\" href=\"http://www.pizzahut.co.kr\" id=\"link1\">피자</a>\n",
      "<a class=\"food\" href=\"http://www.kyochon.com\" id=\"link2\">치킨</a>\n",
      "<a class=\"food\" href=\"http://www.momstouch.co.kr\" id=\"link3\">버거</a>\n"
     ]
    }
   ],
   "source": [
    "for tag in soup.find_all('a') :\n",
    "    print(tag)"
   ]
  },
  {
   "cell_type": "markdown",
   "metadata": {},
   "source": [
    "## get_text 함수\n",
    "* tag 안의 value를 추출\n",
    "* 부모 tag의 경우 모든 자식 tag의 value 추출"
   ]
  },
  {
   "cell_type": "code",
   "execution_count": 15,
   "metadata": {},
   "outputs": [
    {
     "data": {
      "text/plain": [
       "'\\n\\n\\nMy story\\n\\n\\nMy Story\\n내가 좋아하는 음식\\n피자\\n치킨\\n버거\\n\\n\\n\\n'"
      ]
     },
     "execution_count": 15,
     "metadata": {},
     "output_type": "execute_result"
    }
   ],
   "source": [
    "soup.get_text()"
   ]
  },
  {
   "cell_type": "code",
   "execution_count": 16,
   "metadata": {},
   "outputs": [
    {
     "data": {
      "text/plain": [
       "'My Story'"
      ]
     },
     "execution_count": 16,
     "metadata": {},
     "output_type": "execute_result"
    }
   ],
   "source": [
    "soup.find('p').get_text()"
   ]
  },
  {
   "cell_type": "code",
   "execution_count": 22,
   "metadata": {},
   "outputs": [
    {
     "name": "stdout",
     "output_type": "stream",
     "text": [
      "피자\n",
      "치킨\n",
      "버거\n"
     ]
    }
   ],
   "source": [
    "for tag in soup.find_all('a') : \n",
    "    print(tag.get_text())"
   ]
  },
  {
   "cell_type": "markdown",
   "metadata": {},
   "source": [
    "## attribute값 추출하기\n",
    "* 검색한 tag에서 attribute값을 추출\n",
    "* tag['attribute명']"
   ]
  },
  {
   "cell_type": "code",
   "execution_count": 23,
   "metadata": {},
   "outputs": [
    {
     "data": {
      "text/plain": [
       "{'class': ['title']}"
      ]
     },
     "execution_count": 23,
     "metadata": {},
     "output_type": "execute_result"
    }
   ],
   "source": [
    "soup.find('p').attrs #class의 value가 list (class의 value는 여러 개 가능하기 때문)"
   ]
  },
  {
   "cell_type": "code",
   "execution_count": 24,
   "metadata": {},
   "outputs": [
    {
     "data": {
      "text/plain": [
       "{'href': 'http://www.pizzahut.co.kr', 'class': ['food'], 'id': 'link1'}"
      ]
     },
     "execution_count": 24,
     "metadata": {},
     "output_type": "execute_result"
    }
   ],
   "source": [
    "soup.find('a').attrs"
   ]
  },
  {
   "cell_type": "code",
   "execution_count": 25,
   "metadata": {},
   "outputs": [
    {
     "data": {
      "text/plain": [
       "['title']"
      ]
     },
     "execution_count": 25,
     "metadata": {},
     "output_type": "execute_result"
    }
   ],
   "source": [
    "soup.find('p')['class']"
   ]
  },
  {
   "cell_type": "code",
   "execution_count": 30,
   "metadata": {},
   "outputs": [
    {
     "name": "stdout",
     "output_type": "stream",
     "text": [
      "http://www.pizzahut.co.kr link1\n",
      "http://www.kyochon.com link2\n",
      "http://www.momstouch.co.kr link3\n"
     ]
    }
   ],
   "source": [
    "for tag in soup.find_all('a') :\n",
    "    print(tag['href'],tag['id'])"
   ]
  },
  {
   "cell_type": "markdown",
   "metadata": {},
   "source": [
    "## select 함수\n",
    "* select는 CSS Selector로 tag 찾기\n",
    "* 자손 태그 찾기 - tag1 tag2\n",
    "* 직계 자식 태그 찾기 - tag1 > tag2\n",
    "* id 선택자 - #id\n",
    "* class 선택자 - .class\n",
    "* 속성값 찾기 - [name = 'value']\n",
    "    * 속성값 prefix 찾기 [name ^= 'value']\n",
    "    * 속성값 suffix 찾기 [name $= 'value']\n",
    "    * 속성값 포함문자열 찾기 [name *= 'value']"
   ]
  },
  {
   "cell_type": "code",
   "execution_count": 32,
   "metadata": {},
   "outputs": [
    {
     "data": {
      "text/plain": [
       "<p class=\"title\">My Story</p>"
      ]
     },
     "execution_count": 32,
     "metadata": {},
     "output_type": "execute_result"
    }
   ],
   "source": [
    "soup.find('p')"
   ]
  },
  {
   "cell_type": "code",
   "execution_count": 33,
   "metadata": {},
   "outputs": [
    {
     "data": {
      "text/plain": [
       "[<p class=\"title\">My Story</p>,\n",
       " <p class=\"story\">내가 좋아하는 음식\n",
       " <a class=\"food\" href=\"http://www.pizzahut.co.kr\" id=\"link1\">피자</a>\n",
       " <a class=\"food\" href=\"http://www.kyochon.com\" id=\"link2\">치킨</a>\n",
       " <a class=\"food\" href=\"http://www.momstouch.co.kr\" id=\"link3\">버거</a>\n",
       " </p>]"
      ]
     },
     "execution_count": 33,
     "metadata": {},
     "output_type": "execute_result"
    }
   ],
   "source": [
    "soup.select('p') #soup.find_all('p')"
   ]
  },
  {
   "cell_type": "code",
   "execution_count": 35,
   "metadata": {},
   "outputs": [
    {
     "data": {
      "text/plain": [
       "<p class=\"title\">My Story</p>"
      ]
     },
     "execution_count": 35,
     "metadata": {},
     "output_type": "execute_result"
    }
   ],
   "source": [
    "soup.select_one('p') #soup.find('p)"
   ]
  },
  {
   "cell_type": "code",
   "execution_count": 36,
   "metadata": {},
   "outputs": [
    {
     "data": {
      "text/plain": [
       "[<title>My story</title>]"
      ]
     },
     "execution_count": 36,
     "metadata": {},
     "output_type": "execute_result"
    }
   ],
   "source": [
    "#자손 태그\n",
    "soup.select('html title') #html 태그 밑에 title tag 있으면 찾아줘"
   ]
  },
  {
   "cell_type": "code",
   "execution_count": 40,
   "metadata": {},
   "outputs": [
    {
     "data": {
      "text/plain": [
       "[]"
      ]
     },
     "execution_count": 40,
     "metadata": {},
     "output_type": "execute_result"
    }
   ],
   "source": [
    "#직계 자식 태그\n",
    "soup.select('html > title')"
   ]
  },
  {
   "cell_type": "code",
   "execution_count": 41,
   "metadata": {},
   "outputs": [
    {
     "data": {
      "text/plain": [
       "[<head>\n",
       " <title>My story</title>\n",
       " </head>]"
      ]
     },
     "execution_count": 41,
     "metadata": {},
     "output_type": "execute_result"
    }
   ],
   "source": [
    "soup.select('html > head')"
   ]
  },
  {
   "cell_type": "code",
   "execution_count": 42,
   "metadata": {},
   "outputs": [
    {
     "data": {
      "text/plain": [
       "[<a class=\"food\" href=\"http://www.pizzahut.co.kr\" id=\"link1\">피자</a>]"
      ]
     },
     "execution_count": 42,
     "metadata": {},
     "output_type": "execute_result"
    }
   ],
   "source": [
    "#id 선택자\n",
    "soup.select('#link1')"
   ]
  },
  {
   "cell_type": "code",
   "execution_count": 43,
   "metadata": {},
   "outputs": [
    {
     "data": {
      "text/plain": [
       "[<p class=\"title\">My Story</p>]"
      ]
     },
     "execution_count": 43,
     "metadata": {},
     "output_type": "execute_result"
    }
   ],
   "source": [
    "#class 선택자\n",
    "soup.select('.title')"
   ]
  },
  {
   "cell_type": "code",
   "execution_count": 44,
   "metadata": {},
   "outputs": [
    {
     "data": {
      "text/plain": [
       "[<p class=\"story\">내가 좋아하는 음식\n",
       " <a class=\"food\" href=\"http://www.pizzahut.co.kr\" id=\"link1\">피자</a>\n",
       " <a class=\"food\" href=\"http://www.kyochon.com\" id=\"link2\">치킨</a>\n",
       " <a class=\"food\" href=\"http://www.momstouch.co.kr\" id=\"link3\">버거</a>\n",
       " </p>]"
      ]
     },
     "execution_count": 44,
     "metadata": {},
     "output_type": "execute_result"
    }
   ],
   "source": [
    "soup.select('.story')"
   ]
  },
  {
   "cell_type": "code",
   "execution_count": 45,
   "metadata": {},
   "outputs": [
    {
     "data": {
      "text/plain": [
       "[<a class=\"food\" href=\"http://www.pizzahut.co.kr\" id=\"link1\">피자</a>]"
      ]
     },
     "execution_count": 45,
     "metadata": {},
     "output_type": "execute_result"
    }
   ],
   "source": [
    "# 속성값 찾기\n",
    "soup.select('[href=\"http://www.pizzahut.co.kr\"]')"
   ]
  },
  {
   "cell_type": "code",
   "execution_count": 46,
   "metadata": {},
   "outputs": [
    {
     "data": {
      "text/plain": [
       "[<a class=\"food\" href=\"http://www.pizzahut.co.kr\" id=\"link1\">피자</a>,\n",
       " <a class=\"food\" href=\"http://www.kyochon.com\" id=\"link2\">치킨</a>,\n",
       " <a class=\"food\" href=\"http://www.momstouch.co.kr\" id=\"link3\">버거</a>]"
      ]
     },
     "execution_count": 46,
     "metadata": {},
     "output_type": "execute_result"
    }
   ],
   "source": [
    "# 시작문자열\n",
    "soup.select('[href^=\"http\"]')"
   ]
  },
  {
   "cell_type": "code",
   "execution_count": 47,
   "metadata": {},
   "outputs": [
    {
     "data": {
      "text/plain": [
       "[<a class=\"food\" href=\"http://www.pizzahut.co.kr\" id=\"link1\">피자</a>,\n",
       " <a class=\"food\" href=\"http://www.momstouch.co.kr\" id=\"link3\">버거</a>]"
      ]
     },
     "execution_count": 47,
     "metadata": {},
     "output_type": "execute_result"
    }
   ],
   "source": [
    "# 종료문자열\n",
    "soup.select('[href$=\"kr\"]')"
   ]
  },
  {
   "cell_type": "code",
   "execution_count": 49,
   "metadata": {},
   "outputs": [
    {
     "data": {
      "text/plain": [
       "[<a class=\"food\" href=\"http://www.kyochon.com\" id=\"link2\">치킨</a>,\n",
       " <a class=\"food\" href=\"http://www.momstouch.co.kr\" id=\"link3\">버거</a>]"
      ]
     },
     "execution_count": 49,
     "metadata": {},
     "output_type": "execute_result"
    }
   ],
   "source": [
    "#포함문자열\n",
    "soup.select('[href*=\"ch\"]')"
   ]
  },
  {
   "cell_type": "code",
   "execution_count": null,
   "metadata": {},
   "outputs": [],
   "source": []
  }
 ],
 "metadata": {
  "interpreter": {
   "hash": "c9ba0c4a5af8269c496dad2a440da0741b8e4cd992915eed58c521d280844af4"
  },
  "kernelspec": {
   "display_name": "Python 3.8.2 32-bit",
   "name": "python3"
  },
  "language_info": {
   "codemirror_mode": {
    "name": "ipython",
    "version": 3
   },
   "file_extension": ".py",
   "mimetype": "text/x-python",
   "name": "python",
   "nbconvert_exporter": "python",
   "pygments_lexer": "ipython3",
   "version": "3.8.2"
  },
  "orig_nbformat": 4
 },
 "nbformat": 4,
 "nbformat_minor": 2
}
